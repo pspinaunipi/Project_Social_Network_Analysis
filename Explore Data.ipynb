{
 "cells": [
  {
   "cell_type": "markdown",
   "metadata": {},
   "source": [
    "# What are the most active subreddits?"
   ]
  },
  {
   "cell_type": "code",
   "execution_count": 3,
   "metadata": {},
   "outputs": [],
   "source": [
    "import networkx as nx\n",
    "import pandas as pd\n",
    "import matplotlib.pyplot as plt\n",
    "import gc\n",
    "import numpy as np\n",
    "import seaborn as sns\n",
    "\n",
    "def find_rank(subreddit,ranked_list,verbose=False):\n",
    "    i=0\n",
    "    value = 0\n",
    "    l = len(ranked_list)\n",
    "    for (k,v) in ranked_list:\n",
    "        i= i+1\n",
    "        if k == subreddit:\n",
    "            value = v \n",
    "            if verbose == True:\n",
    "                print(\"The subreddit {} is in the top {:.2f}% most important subreddits\".format(subreddit,i/l*100))\n",
    "            break\n",
    "    return value\n"
   ]
  },
  {
   "cell_type": "code",
   "execution_count": 5,
   "metadata": {
    "scrolled": true
   },
   "outputs": [],
   "source": [
    "# load and clean data\n",
    "data = pd.read_csv(\"../scraping data/data/data_subreddit_cleaned.csv\",index_col=0)\n",
    "#add weights\n",
    "data[\"weights\"] = np.log(data[\"score\"]+data[\"comments\"]+1)\n",
    "#convert dataframe into graph\n",
    "g = nx.convert_matrix.from_pandas_edgelist(data ,source = \"parent\",target=\"to\",\n",
    "                                           edge_attr=True, create_using=nx.MultiDiGraph())\n",
    "g_dir = nx.convert_matrix.from_pandas_edgelist(data ,source = \"parent\",target=\"to\",\n",
    "                                           edge_attr=True, create_using=nx.DiGraph())"
   ]
  },
  {
   "cell_type": "code",
   "execution_count": 6,
   "metadata": {},
   "outputs": [],
   "source": [
    "most_parent = data[\"parent\"].value_counts().head(100).index.to_list()\n",
    "parent_val = data[\"parent\"].value_counts().head(100).to_list()"
   ]
  },
  {
   "cell_type": "code",
   "execution_count": 7,
   "metadata": {},
   "outputs": [],
   "source": [
    "most_to = data[\"to\"].value_counts().head(100).index.to_list()\n",
    "to_val = data[\"to\"].value_counts().head(100).to_list()\n"
   ]
  },
  {
   "cell_type": "code",
   "execution_count": 8,
   "metadata": {},
   "outputs": [],
   "source": [
    "oldest = data.sort_values(by=\"date\",ascending = False)"
   ]
  },
  {
   "cell_type": "markdown",
   "metadata": {},
   "source": [
    "# 1) Content creators"
   ]
  },
  {
   "cell_type": "markdown",
   "metadata": {},
   "source": [
    "I wanted to analyze the characteristic of the subreddits that created the most original content (OC for now on). In order to do so I took the top 100 subreddits with the most OC and I classified them in according to their: <br> \n",
    "1. Number of members <br>\n",
    "    > very high = num members > 10.000.000 <br>\n",
    "    > high = num members > 1.000.000 <br>\n",
    "    > medium = num members > 100.000 <br>\n",
    "    > low = num members > 10.000 <br>\n",
    "    > very low = num members < 10.000 <br>\n",
    "2. Type <br>\n",
    "    > News: Subreddits focused on sharing news (example r/environment) <br>\n",
    "    > Media share:  Subreddits focused on sharing media like images, videos gifs etc (example r/memes) <br>\n",
    "    > Community: Subreddits composed of people sharing a common interest (example r/gaming) <br>\n",
    "2. Theme <br>\n",
    "    > Politics: (example r/Europe) <br>\n",
    "    > Animals\\nature: (example r/awww) <br>\n",
    "    > Science: (example r/technology)<br>\n",
    "    > Memes: (example r/funny) <br>\n",
    "    > News: News subreddits that are not focused on a single topic (example r/news) <br>\n",
    "    > Melting pot: There is not a main theme, but rather a mixture of all the themes I listed above (example r/BeAmazed) <br>"
   ]
  },
  {
   "cell_type": "code",
   "execution_count": 27,
   "metadata": {},
   "outputs": [
    {
     "data": {
      "text/html": [
       "<div>\n",
       "<style scoped>\n",
       "    .dataframe tbody tr th:only-of-type {\n",
       "        vertical-align: middle;\n",
       "    }\n",
       "\n",
       "    .dataframe tbody tr th {\n",
       "        vertical-align: top;\n",
       "    }\n",
       "\n",
       "    .dataframe thead th {\n",
       "        text-align: right;\n",
       "    }\n",
       "</style>\n",
       "<table border=\"1\" class=\"dataframe\">\n",
       "  <thead>\n",
       "    <tr style=\"text-align: right;\">\n",
       "      <th></th>\n",
       "      <th>Subreddit</th>\n",
       "      <th>Members</th>\n",
       "      <th>Type</th>\n",
       "      <th>Theme</th>\n",
       "    </tr>\n",
       "  </thead>\n",
       "  <tbody>\n",
       "    <tr>\n",
       "      <th>0.0</th>\n",
       "      <td>politics</td>\n",
       "      <td>high</td>\n",
       "      <td>News</td>\n",
       "      <td>politics</td>\n",
       "    </tr>\n",
       "    <tr>\n",
       "      <th>1.0</th>\n",
       "      <td>interstingasfuck</td>\n",
       "      <td>high</td>\n",
       "      <td>Media share</td>\n",
       "      <td>melting pot</td>\n",
       "    </tr>\n",
       "    <tr>\n",
       "      <th>2.0</th>\n",
       "      <td>PublicFreakout</td>\n",
       "      <td>high</td>\n",
       "      <td>Media share</td>\n",
       "      <td>politics</td>\n",
       "    </tr>\n",
       "    <tr>\n",
       "      <th>3.0</th>\n",
       "      <td>nextfuckinglevel</td>\n",
       "      <td>high</td>\n",
       "      <td>Media share</td>\n",
       "      <td>melting pot</td>\n",
       "    </tr>\n",
       "    <tr>\n",
       "      <th>4.0</th>\n",
       "      <td>aww</td>\n",
       "      <td>very high</td>\n",
       "      <td>Media share</td>\n",
       "      <td>animals</td>\n",
       "    </tr>\n",
       "    <tr>\n",
       "      <th>5.0</th>\n",
       "      <td>funny</td>\n",
       "      <td>very high</td>\n",
       "      <td>Media share</td>\n",
       "      <td>memes</td>\n",
       "    </tr>\n",
       "    <tr>\n",
       "      <th>6.0</th>\n",
       "      <td>Unexpected</td>\n",
       "      <td>high</td>\n",
       "      <td>Media share</td>\n",
       "      <td>memes</td>\n",
       "    </tr>\n",
       "    <tr>\n",
       "      <th>7.0</th>\n",
       "      <td>worldnews</td>\n",
       "      <td>very high</td>\n",
       "      <td>News</td>\n",
       "      <td>politics</td>\n",
       "    </tr>\n",
       "    <tr>\n",
       "      <th>8.0</th>\n",
       "      <td>news</td>\n",
       "      <td>very high</td>\n",
       "      <td>News</td>\n",
       "      <td>news</td>\n",
       "    </tr>\n",
       "    <tr>\n",
       "      <th>9.0</th>\n",
       "      <td>Damnthatsinteresting</td>\n",
       "      <td>high</td>\n",
       "      <td>Media share</td>\n",
       "      <td>melting pot</td>\n",
       "    </tr>\n",
       "  </tbody>\n",
       "</table>\n",
       "</div>"
      ],
      "text/plain": [
       "                Subreddit    Members        Type         Theme\n",
       "0.0              politics       high         News     politics\n",
       "1.0      interstingasfuck       high  Media share  melting pot\n",
       "2.0        PublicFreakout       high  Media share     politics\n",
       "3.0      nextfuckinglevel       high  Media share  melting pot\n",
       "4.0                   aww  very high  Media share      animals\n",
       "5.0                 funny  very high  Media share        memes\n",
       "6.0            Unexpected       high  Media share        memes\n",
       "7.0             worldnews  very high         News     politics\n",
       "8.0                  news  very high         News         news\n",
       "9.0  Damnthatsinteresting       high  Media share  melting pot"
      ]
     },
     "execution_count": 27,
     "metadata": {},
     "output_type": "execute_result"
    }
   ],
   "source": [
    "data_parents = pd.read_csv(\"../scraping data/data/data_parents.csv\",index_col=0,sep=\";\")\n",
    "data_parents.head(10)"
   ]
  },
  {
   "cell_type": "code",
   "execution_count": 51,
   "metadata": {},
   "outputs": [],
   "source": [
    "interactions = []\n",
    "for subreddit in data_parents[\"Subreddit\"]:\n",
    "    sub = data[data[\"parent\"] == subreddit]\n",
    "    interactions.append((sub[\"comments\"]+sub[\"score\"]).mean())\n",
    "\n",
    "data_parents[\"Mean interactions\"] = interactions"
   ]
  },
  {
   "cell_type": "markdown",
   "metadata": {},
   "source": [
    "After I created this dataframe, I took the top 25 subreddits and analyzed the distribution of the variuos class types and the mean value of the interaction, based on the subreddits' type"
   ]
  },
  {
   "cell_type": "code",
   "execution_count": 66,
   "metadata": {},
   "outputs": [
    {
     "data": {
      "image/png": "[encoded data removed]",
      "text/plain": [
       "<Figure size 1080x936 with 4 Axes>"
      ]
     },
     "metadata": {
      "needs_background": "light"
     },
     "output_type": "display_data"
    }
   ],
   "source": [
    "fig = plt.figure(figsize=(15,13))\n",
    "\n",
    "ax1 = fig.add_subplot(221)\n",
    "g = sns.countplot(ax=ax1,data=data_parents.head(25),x=\"Members\")\n",
    "\n",
    "ax2 = fig.add_subplot(222)\n",
    "g1 = sns.countplot(ax=ax2,data=data_parents.head(25),x=\"Type \")\n",
    "\n",
    "ax3 = fig.add_subplot(223)\n",
    "g2 = sns.countplot(ax=ax3,data=data_parents.head(25),x=\"Theme\")\n",
    "\n",
    "ax4 = fig.add_subplot(224)\n",
    "g3 = sns.barplot(data=data_parents.head(25),x=\"Type \",y=\"Mean interactions\",ax=ax4,ci=None)\n",
    "\n",
    "plt.savefig(f\"images/top_25_all_togheter.png\")"
   ]
  },
  {
   "cell_type": "markdown",
   "metadata": {},
   "source": [
    "The most interesting things we can see from the histograms below are: <br>\n",
    "> 1) Almost all the subreddits in the top 25 have a high/very high number of members apart from r/ForUnitedStates which has only 4k members <br>\n",
    "> 2) There are no community subreddits in the top 25 and almost all of them are media share subreddits <br>\n",
    "> 3) The themes of the subreddits are quite diverse\n",
    "    "
   ]
  },
  {
   "cell_type": "markdown",
   "metadata": {},
   "source": [
    "### A closer look to r/ForUnitedStates "
   ]
  },
  {
   "cell_type": "markdown",
   "metadata": {},
   "source": [
    "Among the top 25 subreddits all of them have a very high or high number of members apart from r/ForUnitedStates which has circa 4k members. Is this due to SPAM or is this organic? Let's take a closer look"
   ]
  },
  {
   "cell_type": "code",
   "execution_count": 8,
   "metadata": {},
   "outputs": [
    {
     "name": "stdout",
     "output_type": "stream",
     "text": [
      "Number of total crossposts to other subreddits: 1929\n",
      "Number of unique posts created in r/ForUnitedStates 405\n",
      "Avarage number of comments: 1.01\n",
      "Avarage number of upvotes: 9.25\n",
      "Avarage number of comments excluding posts with 0 comments: 3.53\n",
      "Avarage number of upvotes excluding posts with 0 upvotes: 9.59\n",
      "5 most popular posts:\n",
      "title\n",
      "Sens. Bernie Sanders (I-Vt.) and Josh Hawley (R-Mo.) introduced a bipartisan amendment to Congress Thursday, which if passed would provide $1,200 in direct payments to working-class adults and $500 to each of their children.                                                    1111.0\n",
      "President says US will have enough supply of the vaccine by the end of the summer to inoculate 300 million Americans. US is on pace to exceed goal of administering 100 million vaccine doses                                                                                        807.0\n",
      "Kansas To Remove Cannabis As An Impairing Drug. 'The new bills, known as House Bill 2040, would remove cannabis from drug harm lists, meaning that a worker who has a certain amount of cannabis in his system after an injury would not be prevented from receiving his money.'     587.0\n",
      "Massachusetts To Ban Sale of New Gas-Powered Cars By 2035, 'Gov Baker has released a plan as part of a roadmap to get the state to netzero carbon emissions by 2050 that includes requiring all new cars sold in the state by 2035 to be powered by electricity'                     440.0\n",
      "The Future Of US Solar Is Bright. 'Most major electricity grid studies show solar expanding significantly (even without specific mandates) as costs decline and societies use their values to drive their energy choices.'                                                           356.0\n",
      "Name: score, dtype: float64\n"
     ]
    }
   ],
   "source": [
    "for_un = data[data[\"parent\"] == \"ForUnitedStates\" ]\n",
    "titles = pd.unique(for_un[\"title\"])\n",
    "print(\"Number of total crossposts to other subreddits: {}\".format(len(for_un)))\n",
    "print(\"Number of unique posts created in r/ForUnitedStates {}\".format(len(titles)))\n",
    "print(\"Avarage number of comments: {:.2f}\".format(for_un[\"comments\"].mean()))\n",
    "print(\"Avarage number of upvotes: {:.2f}\".format(for_un[\"score\"].mean()))\n",
    "non_0_c = for_un[for_un[\"comments\"] !=0.][\"comments\"].mean()\n",
    "non_0_up = for_un[for_un[\"score\"] !=0.][\"score\"].mean()\n",
    "print(\"Avarage number of comments excluding posts with 0 comments: {:.2f}\".format(non_0_c))\n",
    "print(\"Avarage number of upvotes excluding posts with 0 upvotes: {:.2f}\".format(non_0_up))\n",
    "most_popular = for_un.groupby(\"title\").sum()\n",
    "most_popular.sort_values(by=\"score\",ascending=False,inplace=True)\n",
    "print(\"5 most popular posts:\" )\n",
    "print(most_popular[\"score\"].head(5))"
   ]
  },
  {
   "cell_type": "markdown",
   "metadata": {},
   "source": [
    "At a first glance it seems that r/ForUnited high number of crossposted OC may be due to spam, but if we remeber the mean interaction by subreddit type we can see something interesting.<br> \n",
    "All the news subreddits generates a lower amount of interactions in respect to the media share subreddits. This means that it is completely possible that r/ForUnitedStates connections are genuine. <br>"
   ]
  },
  {
   "cell_type": "markdown",
   "metadata": {},
   "source": [
    "Let's now analyze the top 100 subreddits"
   ]
  },
  {
   "cell_type": "code",
   "execution_count": 68,
   "metadata": {},
   "outputs": [
    {
     "data": {
      "image/png": "[encoded data removed]",
      "text/plain": [
       "<Figure size 1080x936 with 4 Axes>"
      ]
     },
     "metadata": {
      "needs_background": "light"
     },
     "output_type": "display_data"
    }
   ],
   "source": [
    "fig = plt.figure(figsize=(15,13))\n",
    "\n",
    "ax1 = fig.add_subplot(221)\n",
    "g = sns.countplot(ax=ax1,data=data_parents,x=\"Members\")\n",
    "\n",
    "ax2 = fig.add_subplot(222)\n",
    "g1 = sns.countplot(ax=ax2,data=data_parents,x=\"Type \")\n",
    "\n",
    "ax3 = fig.add_subplot(223)\n",
    "g2 = sns.countplot(ax=ax3,data=data_parents,x=\"Theme\")\n",
    "\n",
    "ax4 = fig.add_subplot(224)\n",
    "g3 = sns.barplot(data=data_parents,x=\"Type \",y=\"Mean interactions\",ax=ax4,ci=None)\n",
    "\n",
    "plt.savefig(f\"images/top_100_all_togheter.png\")"
   ]
  },
  {
   "cell_type": "markdown",
   "metadata": {},
   "source": [
    "The most interesting things we can see from the histograms below are: <br>\n",
    "> 1) Most subreddits have more than 1M members but there are 10 subreddits with less than 10k <br>\n",
    "> 2) There are more community subreddits, but the majority if them are media share subreddits <br>\n",
    "> 3) The themes are dominated by politics memes and melting pot\n",
    "    "
   ]
  },
  {
   "cell_type": "markdown",
   "metadata": {},
   "source": [
    "## 2) Content reposter"
   ]
  },
  {
   "cell_type": "code",
   "execution_count": 58,
   "metadata": {},
   "outputs": [
    {
     "data": {
      "text/html": [
       "<div>\n",
       "<style scoped>\n",
       "    .dataframe tbody tr th:only-of-type {\n",
       "        vertical-align: middle;\n",
       "    }\n",
       "\n",
       "    .dataframe tbody tr th {\n",
       "        vertical-align: top;\n",
       "    }\n",
       "\n",
       "    .dataframe thead th {\n",
       "        text-align: right;\n",
       "    }\n",
       "</style>\n",
       "<table border=\"1\" class=\"dataframe\">\n",
       "  <thead>\n",
       "    <tr style=\"text-align: right;\">\n",
       "      <th></th>\n",
       "      <th>Subreddit</th>\n",
       "      <th>Members</th>\n",
       "      <th>Type</th>\n",
       "      <th>Theme</th>\n",
       "    </tr>\n",
       "  </thead>\n",
       "  <tbody>\n",
       "    <tr>\n",
       "      <th>0</th>\n",
       "      <td>RuralNewsNetwork</td>\n",
       "      <td>very low</td>\n",
       "      <td>News</td>\n",
       "      <td>politics</td>\n",
       "    </tr>\n",
       "    <tr>\n",
       "      <th>1</th>\n",
       "      <td>aww</td>\n",
       "      <td>very high</td>\n",
       "      <td>Media share</td>\n",
       "      <td>animals/nature</td>\n",
       "    </tr>\n",
       "    <tr>\n",
       "      <th>2</th>\n",
       "      <td>GoodRisingTweets</td>\n",
       "      <td>very low</td>\n",
       "      <td>Media share</td>\n",
       "      <td>personal</td>\n",
       "    </tr>\n",
       "    <tr>\n",
       "      <th>3</th>\n",
       "      <td>premiuminternet</td>\n",
       "      <td>very low</td>\n",
       "      <td>Media share</td>\n",
       "      <td>melting pot</td>\n",
       "    </tr>\n",
       "    <tr>\n",
       "      <th>4</th>\n",
       "      <td>Pikabu</td>\n",
       "      <td>medium</td>\n",
       "      <td>Media share</td>\n",
       "      <td>melting pot</td>\n",
       "    </tr>\n",
       "    <tr>\n",
       "      <th>5</th>\n",
       "      <td>therewasanattempt</td>\n",
       "      <td>high</td>\n",
       "      <td>Media share</td>\n",
       "      <td>memes</td>\n",
       "    </tr>\n",
       "    <tr>\n",
       "      <th>6</th>\n",
       "      <td>LateStageCapitalism</td>\n",
       "      <td>medium</td>\n",
       "      <td>Media share</td>\n",
       "      <td>memes</td>\n",
       "    </tr>\n",
       "    <tr>\n",
       "      <th>7</th>\n",
       "      <td>yourmomshousepodcast</td>\n",
       "      <td>medium</td>\n",
       "      <td>Community</td>\n",
       "      <td>memes</td>\n",
       "    </tr>\n",
       "    <tr>\n",
       "      <th>8</th>\n",
       "      <td>PublicFreakout</td>\n",
       "      <td>high</td>\n",
       "      <td>Media share</td>\n",
       "      <td>politics</td>\n",
       "    </tr>\n",
       "    <tr>\n",
       "      <th>9</th>\n",
       "      <td>Ytqaz2019</td>\n",
       "      <td>very low</td>\n",
       "      <td>Media share</td>\n",
       "      <td>melting pot</td>\n",
       "    </tr>\n",
       "  </tbody>\n",
       "</table>\n",
       "</div>"
      ],
      "text/plain": [
       "              Subreddit    Members         Type           Theme\n",
       "0      RuralNewsNetwork   very low         News        politics\n",
       "1                   aww  very high  Media share  animals/nature\n",
       "2      GoodRisingTweets   very low  Media share        personal\n",
       "3       premiuminternet   very low  Media share     melting pot\n",
       "4                Pikabu     medium  Media share     melting pot\n",
       "5     therewasanattempt       high  Media share           memes\n",
       "6   LateStageCapitalism     medium  Media share           memes\n",
       "7  yourmomshousepodcast     medium    Community           memes\n",
       "8        PublicFreakout       high  Media share        politics\n",
       "9             Ytqaz2019   very low  Media share     melting pot"
      ]
     },
     "execution_count": 58,
     "metadata": {},
     "output_type": "execute_result"
    }
   ],
   "source": [
    "reposter = pd.read_csv(\"../scraping data/data/reposts.csv\",sep=\";\")\n",
    "reposter.head(10)"
   ]
  },
  {
   "cell_type": "code",
   "execution_count": 59,
   "metadata": {},
   "outputs": [],
   "source": [
    "interactions = []\n",
    "for subreddit in reposter[\"Subreddit\"]:\n",
    "    sub = data[data[\"parent\"] == subreddit]\n",
    "    interactions.append((sub[\"comments\"]+sub[\"score\"]).mean())\n",
    "\n",
    "reposter[\"Mean interactions\"] = interactions"
   ]
  },
  {
   "cell_type": "code",
   "execution_count": 67,
   "metadata": {},
   "outputs": [
    {
     "data": {
      "image/png": "[encoded data removed]",
      "text/plain": [
       "<Figure size 1080x936 with 4 Axes>"
      ]
     },
     "metadata": {
      "needs_background": "light"
     },
     "output_type": "display_data"
    }
   ],
   "source": [
    "fig = plt.figure(figsize=(15,13))\n",
    "\n",
    "ax1 = fig.add_subplot(221)\n",
    "g = sns.countplot(ax=ax1,data=reposter,x=\"Members\")\n",
    "\n",
    "ax2 = fig.add_subplot(222)\n",
    "g1 = sns.countplot(ax=ax2,data=reposter,x=\"Type\")\n",
    "\n",
    "ax3 = fig.add_subplot(223)\n",
    "g2 = sns.countplot(ax=ax3,data=reposter,x=\"Theme\")\n",
    "\n",
    "ax4 = fig.add_subplot(224)\n",
    "g3 = sns.barplot(data=reposter,x=\"Type\",y=\"Mean interactions\",ax=ax4,ci=None)\n",
    "\n",
    "plt.savefig(f\"images/reposters_100_all_togheter.png\")"
   ]
  },
  {
   "cell_type": "markdown",
   "metadata": {},
   "source": [
    "As we can see the results are a lot different from the previous analysis. In particular:<br>\n",
    "> 1) The subreddits have a much lower number of members <br>\n",
    "> 2) There are no science subreddits but there are personal subreddits. Those are private subreddits created and operated by a single redditor, in which all posts are crossposts from other subreddits.<br> The reason why those exist is because there is a limit of 1000 posts a single redditor can save and once this limit is reached a personal subreddit is created  in order to continue to save posts."
   ]
  },
  {
   "cell_type": "markdown",
   "metadata": {},
   "source": [
    "## 3) Crossposts "
   ]
  },
  {
   "cell_type": "markdown",
   "metadata": {},
   "source": [
    "Firstly I too the top 1.000 viral posts (the one having the highest number of upvotes) and I saw in how many other subreddits they were posted"
   ]
  },
  {
   "cell_type": "code",
   "execution_count": 17,
   "metadata": {},
   "outputs": [
    {
     "data": {
      "text/plain": [
       "title\n",
       "Cop chokes and punches teenage girl in the head after breathalyzer comes up negative                                                                                                                                                                147660.0\n",
       "Why we protest                                                                                                                                                                                                                                      109947.0\n",
       "Turns out this selfish church who had a maskless vigil forgot how the internet works. They are now trying to remove all footage of this video from the internet. Please share everywhere.                                                           109882.0\n",
       "She was having a lovely day playing in the pool until it all went terribly wrong.                                                                                                                                                                   107052.0\n",
       "Lee Wong, an elected official in West Chester, Ohio & US Army veteran with 20-years of service, took his shirt off during a town hall meeting on Wednesday and revealed scars he received during his service. “Is this patriot enough?” he asked     95482.0\n",
       "Guy puts a GoPro on a sushi conveyor belt                                                                                                                                                                                                            93389.0\n",
       "r/donaldtrump has been banned                                                                                                                                                                                                                        85115.0\n",
       "You wanna see a country riddled with poverty? Look no further.                                                                                                                                                                                       80682.0\n",
       "My neighbor has a Black Lives matter sign in her front yard. Some crazy lady parks in the middle of the street and starts screaming “White Lives Matter” for half an hour. Had to put the hose on her.                                               80283.0\n",
       "What the fuckkkkkk                                                                                                                                                                                                                                   78995.0\n",
       "Name: score, dtype: float64"
      ]
     },
     "execution_count": 17,
     "metadata": {},
     "output_type": "execute_result"
    }
   ],
   "source": [
    "data = pd.read_csv(\"../scraping data/data/data_subreddit_cleaned.csv\",index_col=0)\n",
    "data = remove_useless_data(data)\n",
    "most_viral = data.groupby(\"title\")[\"score\"].sum()\n",
    "most_viral.sort_values(inplace=True,ascending=False)\n",
    "lst_viral = most_viral.head(1000).index.to_list()\n",
    "n_cross = []\n",
    "most_viral.head(10)"
   ]
  },
  {
   "cell_type": "code",
   "execution_count": 18,
   "metadata": {},
   "outputs": [
    {
     "data": {
      "image/png": "[encoded data removed]",
      "text/plain": [
       "<Figure size 432x288 with 1 Axes>"
      ]
     },
     "metadata": {
      "needs_background": "light"
     },
     "output_type": "display_data"
    }
   ],
   "source": [
    "for title in lst_viral:\n",
    "    n_cross.append((data[data[\"title\"]==title]).shape[0])\n",
    "sns.histplot(n_cross,log_scale=(True,True))\n",
    "plt.xlabel(\"Crossposts\")\n",
    "plt.savefig(f\"images/cross_1000.png\")"
   ]
  },
  {
   "cell_type": "markdown",
   "metadata": {},
   "source": [
    "Surprisingly the number of subreddits its very low, infact the majority of the posts were crossposted in only 1 other subreddit.\n",
    "Lets see the distribution of all the dataset"
   ]
  },
  {
   "cell_type": "code",
   "execution_count": 22,
   "metadata": {},
   "outputs": [
    {
     "data": {
      "image/png": "[encoded data removed]",
      "text/plain": [
       "<Figure size 360x360 with 1 Axes>"
      ]
     },
     "metadata": {
      "needs_background": "light"
     },
     "output_type": "display_data"
    }
   ],
   "source": [
    "lst_viral_all = most_viral.index.to_list()\n",
    "n_cross = []\n",
    "for title in lst_viral_all:\n",
    "    n_cross.append((data[data[\"title\"]==title]).shape[0])\n",
    "\n",
    "sns.displot(n_cross,kind=\"hist\",bins=25,log_scale=(True,True))\n",
    "plt.savefig(f\"images/cross_all.png\")"
   ]
  },
  {
   "cell_type": "markdown",
   "metadata": {},
   "source": [
    "Once again the number of subreddits is quite low even for the most crossposted posts. (Remember that we are plotting using a bilogaritmic scale)"
   ]
  },
  {
   "cell_type": "code",
   "execution_count": null,
   "metadata": {},
   "outputs": [],
   "source": []
  }
 ],
 "metadata": {
  "kernelspec": {
   "display_name": "Python 3",
   "language": "python",
   "name": "python3"
  },
  "language_info": {
   "codemirror_mode": {
    "name": "ipython",
    "version": 3
   },
   "file_extension": ".py",
   "mimetype": "text/x-python",
   "name": "python",
   "nbconvert_exporter": "python",
   "pygments_lexer": "ipython3",
   "version": "3.8.8"
  }
 },
 "nbformat": 4,
 "nbformat_minor": 4
}
