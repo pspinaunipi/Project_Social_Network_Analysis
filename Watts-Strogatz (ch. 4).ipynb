{
 "cells": [
  {
   "cell_type": "code",
   "execution_count": 1,
   "metadata": {
    "slideshow": {
     "slide_type": "-"
    }
   },
   "outputs": [],
   "source": [
    "import networkx as nx\n",
    "import warnings\n",
    "import pandas as pd\n",
    "import numpy as np\n",
    "import matplotlib.pyplot as plt\n",
    "import powerlaw\n",
    "warnings.filterwarnings('ignore')\n",
    "%matplotlib inline"
   ]
  },
  {
   "cell_type": "markdown",
   "metadata": {},
   "source": [
    "Watts-Strogatz (small world) graphs: model for undirected networks with large clustering coefficient and short distances, as observed in real networks. The model needs three values: N nodes, K number of neighbours each link is linked to, and p probability of a link being rewired randomly to a different node (not allowing self-links)."
   ]
  },
  {
   "cell_type": "markdown",
   "metadata": {},
   "source": [
    "It should be remarked immediately that our network (treated as an undirected network) has a not-so-high clustering coefficient: according to what was calculated by Chiara M., the avg. clustering coefficient should be 0.165."
   ]
  },
  {
   "cell_type": "markdown",
   "metadata": {},
   "source": [
    "<p>**Nota**: provando a calcolare lo stesso numero con gephi, ho notato che per avere l'avg. clustering coefficient è necessario usare un plugin Clustering coefficient, selezionando Basic come opzione. Dopo che ha finito i calcoli (è molto lento, e può dare l'impressione che il programma sia bloccato), esce una schermata con tutti i C per ogni nodo, ed in fondo c'è il C che coincide con l'avg. C del network. Questo risultato coincide con i risultati di networkx (con test a caso, anche il C locale coincideva, almeno fino alla 4a-5a cifra).</p>\n",
    "<p>Tuttavia, con l'Avg. C presente nel programma di default (sotto la sezione Network), il risultato è 0,311. Metodo di calcolo diverso? Sto provando ad informarmi. L'opzione Triangle method del plugin per il C suppongo sia invece per il calcolo del global clustering coefficient? Il programma dà risultato 0,0279.</p>"
   ]
  },
  {
   "cell_type": "markdown",
   "metadata": {},
   "source": [
    "Treating our network as if it was an undirected network, the average degree of the nodes (as calculated by Gephi, and the number is confirmed by the analysis by Chiara M.) should be 8.404. I've thus made two models, one with k=8 and one with k=9, to have lower and upper bounds (chosing 10 instead of 9 because the network x WS function to create networks creates k-1 edges in case k is an odd number).<br />\n",
    "In addition, according to the calculations on Gephi, the avg. path length (a.k.a. average length of the shortest path) is estimated at 3.736, with a network diameter (max. distance) of 10."
   ]
  },
  {
   "cell_type": "markdown",
   "metadata": {},
   "source": [
    "## Regular lattice\n",
    "The WS model as a regular lattice (p=0):"
   ]
  },
  {
   "cell_type": "code",
   "execution_count": 27,
   "metadata": {},
   "outputs": [
    {
     "name": "stdout",
     "output_type": "stream",
     "text": [
      "Links of k=8:  99276\n",
      "Links of k=9:  124095\n",
      "Our network has 24819 nodes and 104284 links.\n"
     ]
    }
   ],
   "source": [
    "#24819 nodes\n",
    "#104284 edges\n",
    "\n",
    "# network generators 2 (small-world)\n",
    "wsLow = nx.watts_strogatz_graph(24819, k=8, p=0)\n",
    "wsUp = nx.watts_strogatz_graph(24819, k=10, p=0)\n",
    "#nx.draw(ws)\n",
    "print(\"Links of k=8: \", wsLow.number_of_edges())\n",
    "print(\"Links of k=9: \", wsUp.number_of_edges())\n",
    "print(\"Our network has 24819 nodes and 104284 links.\")"
   ]
  },
  {
   "cell_type": "code",
   "execution_count": 91,
   "metadata": {},
   "outputs": [
    {
     "name": "stdout",
     "output_type": "stream",
     "text": [
      "Global clustering (lower bound): 0.6428571428569719\n",
      "Global clustering (upper bound): 0.6666666666664383\n"
     ]
    }
   ],
   "source": [
    "print(f\"Global clustering (lower bound): {nx.average_clustering(wsLow)}\")\n",
    "print(f\"Global clustering (upper bound): {nx.average_clustering(wsUp)}\")"
   ]
  },
  {
   "cell_type": "markdown",
   "metadata": {},
   "source": [
    "The clustering coefficient is significantly higher than the one observed in our network."
   ]
  },
  {
   "cell_type": "code",
   "execution_count": 77,
   "metadata": {},
   "outputs": [
    {
     "name": "stdout",
     "output_type": "stream",
     "text": [
      "Average shortest path (low bound): 1551.6250302200017\n",
      "Average shortest path (upper bound): 1241.4000322346683\n"
     ]
    }
   ],
   "source": [
    "print(f\"Average shortest path (lower bound): {nx.average_shortest_path_length(wsLow)}\")\n",
    "print(f\"Average shortest path (upper bound): {nx.average_shortest_path_length(wsUp)}\")"
   ]
  },
  {
   "cell_type": "code",
   "execution_count": 9,
   "metadata": {},
   "outputs": [
    {
     "name": "stdout",
     "output_type": "stream",
     "text": [
      "L=8 is strongly connected:  True\n",
      "L=9 is strongly connected:  True\n"
     ]
    }
   ],
   "source": [
    "# various metrics\n",
    "connectL = nx.is_connected(wsLow)\n",
    "print(\"L=8 is strongly connected: \", connectL)\n",
    "connectU = nx.is_connected(wsUp)\n",
    "print(\"L=9 is strongly connected: \", connectU)"
   ]
  },
  {
   "cell_type": "code",
   "execution_count": 10,
   "metadata": {},
   "outputs": [
    {
     "name": "stdout",
     "output_type": "stream",
     "text": [
      "L=8 density:  0.0003223466838584898\n",
      "L=9 density:  0.00040293335482311226\n"
     ]
    }
   ],
   "source": [
    "densityL = nx.density(wsLow)\n",
    "densityU = nx.density(wsUp)\n",
    "print(\"L=8 density: \", densityL)\n",
    "print(\"L=9 density: \", densityU)"
   ]
  },
  {
   "cell_type": "markdown",
   "metadata": {},
   "source": [
    "## Random network\n",
    "Random network (p=1):"
   ]
  },
  {
   "cell_type": "code",
   "execution_count": 29,
   "metadata": {},
   "outputs": [],
   "source": [
    "# network generators 2 (small-world)\n",
    "wsLow = nx.watts_strogatz_graph(24819, k=8, p=1)\n",
    "wsUp = nx.watts_strogatz_graph(24819, k=10, p=1)\n",
    "#nx.draw(ws)"
   ]
  },
  {
   "cell_type": "code",
   "execution_count": 93,
   "metadata": {},
   "outputs": [
    {
     "name": "stdout",
     "output_type": "stream",
     "text": [
      "Global clustering (lower bound): 0.0002601078450226278\n",
      "Global clustering (upper bound): 0.00036301361439011347\n"
     ]
    }
   ],
   "source": [
    "print(f\"Global clustering (lower bound): {nx.average_clustering(wsLow)}\")\n",
    "print(f\"Global clustering (upper bound): {nx.average_clustering(wsUp)}\")"
   ]
  },
  {
   "cell_type": "markdown",
   "metadata": {},
   "source": [
    "The clustering coefficient is significantly smaller than the one observed in our network. The average shortest path length, however, is much closer to our network's:"
   ]
  },
  {
   "cell_type": "code",
   "execution_count": 86,
   "metadata": {},
   "outputs": [
    {
     "name": "stdout",
     "output_type": "stream",
     "text": [
      "Average shortest path (lower bound): 5.173419489735226\n",
      "Average shortest path (upper bound): 4.685677318533544\n"
     ]
    }
   ],
   "source": [
    "print(f\"Average shortest path (lower bound): {nx.average_shortest_path_length(wsLow)}\")\n",
    "print(f\"Average shortest path (upper bound): {nx.average_shortest_path_length(wsUp)}\")"
   ]
  },
  {
   "cell_type": "code",
   "execution_count": 15,
   "metadata": {},
   "outputs": [
    {
     "name": "stdout",
     "output_type": "stream",
     "text": [
      "L=8 is strongly connected:  True\n",
      "L=9 is strongly connected:  True\n"
     ]
    }
   ],
   "source": [
    "# various metrics\n",
    "connectL = nx.is_connected(wsLow)\n",
    "print(\"L=8 is strongly connected: \", connectL)\n",
    "connectU = nx.is_connected(wsUp)\n",
    "print(\"L=9 is strongly connected: \", connectU)"
   ]
  },
  {
   "cell_type": "code",
   "execution_count": 16,
   "metadata": {},
   "outputs": [
    {
     "name": "stdout",
     "output_type": "stream",
     "text": [
      "L=8 density:  0.0003223466838584898\n",
      "L=9 density:  0.00040293335482311226\n"
     ]
    }
   ],
   "source": [
    "densityL = nx.density(wsLow)\n",
    "densityU = nx.density(wsUp)\n",
    "print(\"L=8 density: \", densityL)\n",
    "print(\"L=9 density: \", densityU)"
   ]
  },
  {
   "cell_type": "markdown",
   "metadata": {},
   "source": [
    "## Small world regime\n",
    "The small world regime consists in a network with p's value such as 0.001 < p < 0.1."
   ]
  },
  {
   "cell_type": "markdown",
   "metadata": {},
   "source": [
    "With a p of 0.5, we still obtain a global clustering coefficient and avg. path length that are still significantly higher than the ones observed in our network:"
   ]
  },
  {
   "cell_type": "code",
   "execution_count": 94,
   "metadata": {},
   "outputs": [],
   "source": [
    "# network generators 2 (small-world)\n",
    "wsLow = nx.watts_strogatz_graph(24819, k=8, p=0.05)\n",
    "wsUp = nx.watts_strogatz_graph(24819, k=10, p=0.05)\n",
    "#nx.draw(ws)"
   ]
  },
  {
   "cell_type": "code",
   "execution_count": 95,
   "metadata": {},
   "outputs": [
    {
     "name": "stdout",
     "output_type": "stream",
     "text": [
      "Global clustering (lower bound): 0.5538923974074691\n",
      "Global clustering (upper bound): 0.5725695690702096\n"
     ]
    }
   ],
   "source": [
    "print(f\"Global clustering (lower bound): {nx.average_clustering(wsLow)}\")\n",
    "print(f\"Global clustering (upper bound): {nx.average_clustering(wsUp)}\")"
   ]
  },
  {
   "cell_type": "code",
   "execution_count": 96,
   "metadata": {},
   "outputs": [
    {
     "name": "stdout",
     "output_type": "stream",
     "text": [
      "Average shortest path (lower bound): 9.750140161355368\n",
      "Average shortest path (upper bound): 8.24615103672127\n"
     ]
    }
   ],
   "source": [
    "print(f\"Average shortest path (lower bound): {nx.average_shortest_path_length(wsLow)}\")\n",
    "print(f\"Average shortest path (upper bound): {nx.average_shortest_path_length(wsUp)}\")"
   ]
  },
  {
   "cell_type": "markdown",
   "metadata": {
    "slideshow": {
     "slide_type": "-"
    }
   },
   "source": [
    "A value of p close to 0.4 seems to give the avg. clustering coefficient closest to our network's."
   ]
  },
  {
   "cell_type": "code",
   "execution_count": 20,
   "metadata": {},
   "outputs": [],
   "source": [
    "# network generators 3 prova mia\n",
    "wsLow = nx.watts_strogatz_graph(24819, k=8, p=0.37)\n",
    "wsUp = nx.watts_strogatz_graph(24819, k=10, p=0.37)\n",
    "#nx.draw(ws)"
   ]
  },
  {
   "cell_type": "code",
   "execution_count": 127,
   "metadata": {},
   "outputs": [
    {
     "name": "stdout",
     "output_type": "stream",
     "text": [
      "Global clustering (lower bound): 0.16438924439649966\n",
      "Global clustering (upper bound): 0.16951747257997285\n"
     ]
    }
   ],
   "source": [
    "print(f\"Global clustering (lower bound): {nx.average_clustering(wsLow)}\")\n",
    "print(f\"Global clustering (upper bound): {nx.average_clustering(wsUp)}\")"
   ]
  },
  {
   "cell_type": "code",
   "execution_count": 128,
   "metadata": {},
   "outputs": [
    {
     "name": "stdout",
     "output_type": "stream",
     "text": [
      "Average shortest path (lower bound): 5.687665740009242\n",
      "Average shortest path (upper bound): 5.132950940991358\n"
     ]
    }
   ],
   "source": [
    "print(f\"Average shortest path (lower bound): {nx.average_shortest_path_length(wsLow)}\")\n",
    "print(f\"Average shortest path (upper bound): {nx.average_shortest_path_length(wsUp)}\")"
   ]
  },
  {
   "cell_type": "markdown",
   "metadata": {},
   "source": [
    "The average shortest path length is also much closer to our network's (albeit not as low)."
   ]
  },
  {
   "cell_type": "code",
   "execution_count": 22,
   "metadata": {},
   "outputs": [
    {
     "name": "stdout",
     "output_type": "stream",
     "text": [
      "L=8 is strongly connected:  True\n",
      "L=9 is strongly connected:  True\n"
     ]
    }
   ],
   "source": [
    "# various metrics\n",
    "connectL = nx.is_connected(wsLow)\n",
    "print(\"L=8 is strongly connected: \", connectL)\n",
    "connectU = nx.is_connected(wsUp)\n",
    "print(\"L=9 is strongly connected: \", connectU)"
   ]
  },
  {
   "cell_type": "code",
   "execution_count": 23,
   "metadata": {},
   "outputs": [
    {
     "name": "stdout",
     "output_type": "stream",
     "text": [
      "L=8 density:  0.0003223466838584898\n",
      "L=9 density:  0.00040293335482311226\n"
     ]
    }
   ],
   "source": [
    "densityL = nx.density(wsLow)\n",
    "densityU = nx.density(wsUp)\n",
    "print(\"L=8 density: \", densityL)\n",
    "print(\"L=9 density: \", densityU)"
   ]
  },
  {
   "cell_type": "markdown",
   "metadata": {},
   "source": [
    "+ connected\n",
    "+ avg clustering coefficient (che è il valore che ho calcolato)\n",
    "+ density (calcolata, è uguale per tutti ovviamente, magari cancello dopo la prima visto che è ovvio)\n",
    "+ i vari k sono come da modello per tutti, rimangono costanti\n",
    "+ avg shortest path (che è il valore che ho calcolato)\n",
    "+ distribution (deriva dalla teoria)\n",
    "+ lattices: dirac delta function\n",
    "+ others: poisson"
   ]
  },
  {
   "cell_type": "markdown",
   "metadata": {},
   "source": [
    "<style>\n",
    "    th, td, tr {\n",
    "        border: 1px solid black !important;\n",
    "\n",
    "</style>\n",
    "<table>\n",
    "    <tr>\n",
    "        <th></th>\n",
    "        <th colspan=\"2\">Lattice</th>\n",
    "        <th colspan=\"2\">Random network</th>\n",
    "        <th colspan=\"2\">Small world regime</th>\n",
    "    </tr>\n",
    "    <tr>\n",
    "        <th></th>\n",
    "        <th>K=8</th>\n",
    "        <th>K=9</th>\n",
    "        <th>K=8</th>\n",
    "        <th>K=9</th>\n",
    "        <th>K=8</th>\n",
    "        <th>K=9</th>\n",
    "    </tr>\n",
    "    <tr>\n",
    "        <td>Connectedness<td>\n",
    "        <td colspan=\"6\">Connected</td>\n",
    "    </tr>\n",
    "    <tr>\n",
    "        <td>Avg. clustering coefficient</td>\n",
    "        <td>0.6428</td>\n",
    "        <td>0.6667</td>\n",
    "        <td>0.0003</td>\n",
    "        <td>0.0004</td>\n",
    "        <td>0.1644</td>\n",
    "        <td>0.1695</td>\n",
    "    </tr>\n",
    "    <tr>\n",
    "        <td>Density</td>\n",
    "        <td>0.0003</td>\n",
    "        <td>0.0004</td>\n",
    "        <td>0.0003</td>\n",
    "        <td>0.0004</td>\n",
    "        <td>0.0003</td>\n",
    "        <td>0.0004</td>\n",
    "    </tr>\n",
    "    <tr>\n",
    "        <td>K (min, max, avg)</td>\n",
    "        <td>8</td>\n",
    "        <td>9</td>\n",
    "        <td>8</td>\n",
    "        <td>9</td>\n",
    "        <td>8</td>\n",
    "        <td>9</td>\n",
    "    </tr>\n",
    "    <tr>\n",
    "        <td>Avg. shortest path</td>\n",
    "        <td>1551.625</td>\n",
    "        <td>1241.400</td>\n",
    "        <td>5.173</td>\n",
    "        <td>4.686</td>\n",
    "        <td>5.688</td>\n",
    "        <td>5.133</td>\n",
    "    </tr>\n",
    "    <tr>\n",
    "        <td>Distribution</td>\n",
    "        <td colspan=\"2\">Dirac delta function</td>\n",
    "        <td colspan=\"2\">Poisson</td>\n",
    "        <td colspan=\"2\">Poisson</td>\n",
    "    </tr>\n",
    "</table>\n"
   ]
  },
  {
   "cell_type": "raw",
   "metadata": {},
   "source": []
  }
 ],
 "metadata": {
  "anaconda-cloud": {},
  "kernelspec": {
   "display_name": "Python 3",
   "language": "python",
   "name": "python3"
  },
  "language_info": {
   "codemirror_mode": {
    "name": "ipython",
    "version": 3
   },
   "file_extension": ".py",
   "mimetype": "text/x-python",
   "name": "python",
   "nbconvert_exporter": "python",
   "pygments_lexer": "ipython3",
   "version": "3.8.5"
  }
 },
 "nbformat": 4,
 "nbformat_minor": 4
}
