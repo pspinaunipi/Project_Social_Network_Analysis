{
 "cells": [
  {
   "cell_type": "markdown",
   "metadata": {},
   "source": [
    "# An analysis of old posts in the dataset"
   ]
  },
  {
   "cell_type": "code",
   "execution_count": 2,
   "metadata": {},
   "outputs": [],
   "source": [
    "import pandas as pd\n",
    "import datetime\n",
    "import matplotlib.pyplot as plt\n",
    "import numpy as np"
   ]
  },
  {
   "cell_type": "code",
   "execution_count": 2,
   "metadata": {},
   "outputs": [],
   "source": [
    "data = pd.read_csv(\"D:/Dati PRAW/Project_Social_Network_Analysis-main/Project_Social_Network_Analysis-main/scraping data/data/data_subreddit_cleaned.csv\",index_col=0)"
   ]
  },
  {
   "cell_type": "markdown",
   "metadata": {},
   "source": [
    "The posts were filtrated in order to only select posts where from == to, i.e. posts that were scraped from the \"hot\" list of a subreddit, as opposed to all the other crossposted posts collected after a \"hot\" crosspost was found."
   ]
  },
  {
   "cell_type": "code",
   "execution_count": 3,
   "metadata": {},
   "outputs": [],
   "source": [
    "filtered_data = data[data['from'] == data['to']]"
   ]
  },
  {
   "cell_type": "markdown",
   "metadata": {},
   "source": [
    "Ordering them by the date of posting:"
   ]
  },
  {
   "cell_type": "code",
   "execution_count": 4,
   "metadata": {},
   "outputs": [
    {
     "data": {
      "text/html": [
       "<div>\n",
       "<style scoped>\n",
       "    .dataframe tbody tr th:only-of-type {\n",
       "        vertical-align: middle;\n",
       "    }\n",
       "\n",
       "    .dataframe tbody tr th {\n",
       "        vertical-align: top;\n",
       "    }\n",
       "\n",
       "    .dataframe thead th {\n",
       "        text-align: right;\n",
       "    }\n",
       "</style>\n",
       "<table border=\"1\" class=\"dataframe\">\n",
       "  <thead>\n",
       "    <tr style=\"text-align: right;\">\n",
       "      <th></th>\n",
       "      <th>from</th>\n",
       "      <th>to</th>\n",
       "      <th>id</th>\n",
       "      <th>title</th>\n",
       "      <th>score</th>\n",
       "      <th>date</th>\n",
       "      <th>comments</th>\n",
       "      <th>parent</th>\n",
       "    </tr>\n",
       "  </thead>\n",
       "  <tbody>\n",
       "    <tr>\n",
       "      <th>195358</th>\n",
       "      <td>VeganRights</td>\n",
       "      <td>VeganRights</td>\n",
       "      <td>6zgrjk</td>\n",
       "      <td>How to advocate for vegan meals at your local ...</td>\n",
       "      <td>6.0</td>\n",
       "      <td>1.505179e+09</td>\n",
       "      <td>0.0</td>\n",
       "      <td>VeganSchools</td>\n",
       "    </tr>\n",
       "    <tr>\n",
       "      <th>174027</th>\n",
       "      <td>Petroleum</td>\n",
       "      <td>Petroleum</td>\n",
       "      <td>767ooy</td>\n",
       "      <td>Oil will crash to $10 a barrel with electric v...</td>\n",
       "      <td>1.0</td>\n",
       "      <td>1.507957e+09</td>\n",
       "      <td>1.0</td>\n",
       "      <td>energy</td>\n",
       "    </tr>\n",
       "    <tr>\n",
       "      <th>144193</th>\n",
       "      <td>Argentinados</td>\n",
       "      <td>Argentinados</td>\n",
       "      <td>79zxke</td>\n",
       "      <td>Radios del Mundo. Genial para conocer nuevas e...</td>\n",
       "      <td>7.0</td>\n",
       "      <td>1.509523e+09</td>\n",
       "      <td>2.0</td>\n",
       "      <td>hackernews</td>\n",
       "    </tr>\n",
       "    <tr>\n",
       "      <th>150026</th>\n",
       "      <td>Anarchist_Strategy</td>\n",
       "      <td>Anarchist_Strategy</td>\n",
       "      <td>7fdkbw</td>\n",
       "      <td>Guerrilla ISP Communal Internet Gateways</td>\n",
       "      <td>1.0</td>\n",
       "      <td>1.511621e+09</td>\n",
       "      <td>0.0</td>\n",
       "      <td>anarcho_hackers</td>\n",
       "    </tr>\n",
       "    <tr>\n",
       "      <th>162215</th>\n",
       "      <td>DoseDaily</td>\n",
       "      <td>DoseDaily</td>\n",
       "      <td>7puj7g</td>\n",
       "      <td>Not only did Prop. 64 make pot legal in Califo...</td>\n",
       "      <td>1.0</td>\n",
       "      <td>1.515764e+09</td>\n",
       "      <td>0.0</td>\n",
       "      <td>YouShouldKnow</td>\n",
       "    </tr>\n",
       "    <tr>\n",
       "      <th>117121</th>\n",
       "      <td>ConfusedTravolta</td>\n",
       "      <td>ConfusedTravolta</td>\n",
       "      <td>7x59a6</td>\n",
       "      <td>You cannot fast travel while enemies are nearby.</td>\n",
       "      <td>355.0</td>\n",
       "      <td>1.518509e+09</td>\n",
       "      <td>3.0</td>\n",
       "      <td>gaming</td>\n",
       "    </tr>\n",
       "    <tr>\n",
       "      <th>186623</th>\n",
       "      <td>LittleKittiesBigDogs</td>\n",
       "      <td>LittleKittiesBigDogs</td>\n",
       "      <td>7y7yfv</td>\n",
       "      <td>Funny how that works</td>\n",
       "      <td>80.0</td>\n",
       "      <td>1.518917e+09</td>\n",
       "      <td>0.0</td>\n",
       "      <td>RedditInReddit</td>\n",
       "    </tr>\n",
       "    <tr>\n",
       "      <th>186621</th>\n",
       "      <td>LittleKittiesBigDogs</td>\n",
       "      <td>LittleKittiesBigDogs</td>\n",
       "      <td>83elou</td>\n",
       "      <td>It ain't easy being a single mom to a kitten</td>\n",
       "      <td>72.0</td>\n",
       "      <td>1.520709e+09</td>\n",
       "      <td>0.0</td>\n",
       "      <td>thisismylifenow</td>\n",
       "    </tr>\n",
       "    <tr>\n",
       "      <th>52732</th>\n",
       "      <td>PoliticalRevolutionDE</td>\n",
       "      <td>PoliticalRevolutionDE</td>\n",
       "      <td>83qiyb</td>\n",
       "      <td>Invitation to Annual Meeting of the Green Part...</td>\n",
       "      <td>2.0</td>\n",
       "      <td>1.520839e+09</td>\n",
       "      <td>0.0</td>\n",
       "      <td>GreenPartyOfDelaware</td>\n",
       "    </tr>\n",
       "    <tr>\n",
       "      <th>186613</th>\n",
       "      <td>LittleKittiesBigDogs</td>\n",
       "      <td>LittleKittiesBigDogs</td>\n",
       "      <td>84do4y</td>\n",
       "      <td>samoyed meets little fluff....</td>\n",
       "      <td>60.0</td>\n",
       "      <td>1.521066e+09</td>\n",
       "      <td>1.0</td>\n",
       "      <td>aww</td>\n",
       "    </tr>\n",
       "  </tbody>\n",
       "</table>\n",
       "</div>"
      ],
      "text/plain": [
       "                         from                     to      id  \\\n",
       "195358            VeganRights            VeganRights  6zgrjk   \n",
       "174027              Petroleum              Petroleum  767ooy   \n",
       "144193           Argentinados           Argentinados  79zxke   \n",
       "150026     Anarchist_Strategy     Anarchist_Strategy  7fdkbw   \n",
       "162215              DoseDaily              DoseDaily  7puj7g   \n",
       "117121       ConfusedTravolta       ConfusedTravolta  7x59a6   \n",
       "186623   LittleKittiesBigDogs   LittleKittiesBigDogs  7y7yfv   \n",
       "186621   LittleKittiesBigDogs   LittleKittiesBigDogs  83elou   \n",
       "52732   PoliticalRevolutionDE  PoliticalRevolutionDE  83qiyb   \n",
       "186613   LittleKittiesBigDogs   LittleKittiesBigDogs  84do4y   \n",
       "\n",
       "                                                    title  score  \\\n",
       "195358  How to advocate for vegan meals at your local ...    6.0   \n",
       "174027  Oil will crash to $10 a barrel with electric v...    1.0   \n",
       "144193  Radios del Mundo. Genial para conocer nuevas e...    7.0   \n",
       "150026           Guerrilla ISP Communal Internet Gateways    1.0   \n",
       "162215  Not only did Prop. 64 make pot legal in Califo...    1.0   \n",
       "117121   You cannot fast travel while enemies are nearby.  355.0   \n",
       "186623                               Funny how that works   80.0   \n",
       "186621       It ain't easy being a single mom to a kitten   72.0   \n",
       "52732   Invitation to Annual Meeting of the Green Part...    2.0   \n",
       "186613                     samoyed meets little fluff....   60.0   \n",
       "\n",
       "                date  comments                parent  \n",
       "195358  1.505179e+09       0.0          VeganSchools  \n",
       "174027  1.507957e+09       1.0                energy  \n",
       "144193  1.509523e+09       2.0            hackernews  \n",
       "150026  1.511621e+09       0.0       anarcho_hackers  \n",
       "162215  1.515764e+09       0.0         YouShouldKnow  \n",
       "117121  1.518509e+09       3.0                gaming  \n",
       "186623  1.518917e+09       0.0        RedditInReddit  \n",
       "186621  1.520709e+09       0.0       thisismylifenow  \n",
       "52732   1.520839e+09       0.0  GreenPartyOfDelaware  \n",
       "186613  1.521066e+09       1.0                   aww  "
      ]
     },
     "execution_count": 4,
     "metadata": {},
     "output_type": "execute_result"
    }
   ],
   "source": [
    "oldest = filtered_data.sort_values(by=\"date\",ascending = True)\n",
    "oldest.head(10)"
   ]
  },
  {
   "cell_type": "markdown",
   "metadata": {},
   "source": [
    "Adding a column with the dates in human-readable form:"
   ]
  },
  {
   "cell_type": "code",
   "execution_count": 5,
   "metadata": {},
   "outputs": [],
   "source": [
    "oldest['humandate'] = oldest.apply(lambda row : datetime.datetime.fromtimestamp(int(row['date'])).strftime('%Y-%m-%d %H:%M:%S'), axis = 1)"
   ]
  },
  {
   "cell_type": "code",
   "execution_count": 6,
   "metadata": {},
   "outputs": [
    {
     "data": {
      "text/html": [
       "<div>\n",
       "<style scoped>\n",
       "    .dataframe tbody tr th:only-of-type {\n",
       "        vertical-align: middle;\n",
       "    }\n",
       "\n",
       "    .dataframe tbody tr th {\n",
       "        vertical-align: top;\n",
       "    }\n",
       "\n",
       "    .dataframe thead th {\n",
       "        text-align: right;\n",
       "    }\n",
       "</style>\n",
       "<table border=\"1\" class=\"dataframe\">\n",
       "  <thead>\n",
       "    <tr style=\"text-align: right;\">\n",
       "      <th></th>\n",
       "      <th>from</th>\n",
       "      <th>to</th>\n",
       "      <th>id</th>\n",
       "      <th>title</th>\n",
       "      <th>score</th>\n",
       "      <th>date</th>\n",
       "      <th>comments</th>\n",
       "      <th>parent</th>\n",
       "      <th>humandate</th>\n",
       "    </tr>\n",
       "  </thead>\n",
       "  <tbody>\n",
       "    <tr>\n",
       "      <th>195358</th>\n",
       "      <td>VeganRights</td>\n",
       "      <td>VeganRights</td>\n",
       "      <td>6zgrjk</td>\n",
       "      <td>How to advocate for vegan meals at your local ...</td>\n",
       "      <td>6.0</td>\n",
       "      <td>1.505179e+09</td>\n",
       "      <td>0.0</td>\n",
       "      <td>VeganSchools</td>\n",
       "      <td>2017-09-12 03:10:35</td>\n",
       "    </tr>\n",
       "    <tr>\n",
       "      <th>174027</th>\n",
       "      <td>Petroleum</td>\n",
       "      <td>Petroleum</td>\n",
       "      <td>767ooy</td>\n",
       "      <td>Oil will crash to $10 a barrel with electric v...</td>\n",
       "      <td>1.0</td>\n",
       "      <td>1.507957e+09</td>\n",
       "      <td>1.0</td>\n",
       "      <td>energy</td>\n",
       "      <td>2017-10-14 06:54:05</td>\n",
       "    </tr>\n",
       "    <tr>\n",
       "      <th>144193</th>\n",
       "      <td>Argentinados</td>\n",
       "      <td>Argentinados</td>\n",
       "      <td>79zxke</td>\n",
       "      <td>Radios del Mundo. Genial para conocer nuevas e...</td>\n",
       "      <td>7.0</td>\n",
       "      <td>1.509523e+09</td>\n",
       "      <td>2.0</td>\n",
       "      <td>hackernews</td>\n",
       "      <td>2017-11-01 08:54:27</td>\n",
       "    </tr>\n",
       "    <tr>\n",
       "      <th>150026</th>\n",
       "      <td>Anarchist_Strategy</td>\n",
       "      <td>Anarchist_Strategy</td>\n",
       "      <td>7fdkbw</td>\n",
       "      <td>Guerrilla ISP Communal Internet Gateways</td>\n",
       "      <td>1.0</td>\n",
       "      <td>1.511621e+09</td>\n",
       "      <td>0.0</td>\n",
       "      <td>anarcho_hackers</td>\n",
       "      <td>2017-11-25 15:39:39</td>\n",
       "    </tr>\n",
       "    <tr>\n",
       "      <th>162215</th>\n",
       "      <td>DoseDaily</td>\n",
       "      <td>DoseDaily</td>\n",
       "      <td>7puj7g</td>\n",
       "      <td>Not only did Prop. 64 make pot legal in Califo...</td>\n",
       "      <td>1.0</td>\n",
       "      <td>1.515764e+09</td>\n",
       "      <td>0.0</td>\n",
       "      <td>YouShouldKnow</td>\n",
       "      <td>2018-01-12 14:38:14</td>\n",
       "    </tr>\n",
       "  </tbody>\n",
       "</table>\n",
       "</div>"
      ],
      "text/plain": [
       "                      from                  to      id  \\\n",
       "195358         VeganRights         VeganRights  6zgrjk   \n",
       "174027           Petroleum           Petroleum  767ooy   \n",
       "144193        Argentinados        Argentinados  79zxke   \n",
       "150026  Anarchist_Strategy  Anarchist_Strategy  7fdkbw   \n",
       "162215           DoseDaily           DoseDaily  7puj7g   \n",
       "\n",
       "                                                    title  score  \\\n",
       "195358  How to advocate for vegan meals at your local ...    6.0   \n",
       "174027  Oil will crash to $10 a barrel with electric v...    1.0   \n",
       "144193  Radios del Mundo. Genial para conocer nuevas e...    7.0   \n",
       "150026           Guerrilla ISP Communal Internet Gateways    1.0   \n",
       "162215  Not only did Prop. 64 make pot legal in Califo...    1.0   \n",
       "\n",
       "                date  comments           parent            humandate  \n",
       "195358  1.505179e+09       0.0     VeganSchools  2017-09-12 03:10:35  \n",
       "174027  1.507957e+09       1.0           energy  2017-10-14 06:54:05  \n",
       "144193  1.509523e+09       2.0       hackernews  2017-11-01 08:54:27  \n",
       "150026  1.511621e+09       0.0  anarcho_hackers  2017-11-25 15:39:39  \n",
       "162215  1.515764e+09       0.0    YouShouldKnow  2018-01-12 14:38:14  "
      ]
     },
     "execution_count": 6,
     "metadata": {},
     "output_type": "execute_result"
    }
   ],
   "source": [
    "oldest.head()"
   ]
  },
  {
   "cell_type": "code",
   "execution_count": 7,
   "metadata": {},
   "outputs": [
    {
     "data": {
      "text/plain": [
       "8423"
      ]
     },
     "execution_count": 7,
     "metadata": {},
     "output_type": "execute_result"
    }
   ],
   "source": [
    "oldest[oldest['date']<1609459200].shape[0]"
   ]
  },
  {
   "cell_type": "code",
   "execution_count": 8,
   "metadata": {},
   "outputs": [
    {
     "data": {
      "text/html": [
       "<div>\n",
       "<style scoped>\n",
       "    .dataframe tbody tr th:only-of-type {\n",
       "        vertical-align: middle;\n",
       "    }\n",
       "\n",
       "    .dataframe tbody tr th {\n",
       "        vertical-align: top;\n",
       "    }\n",
       "\n",
       "    .dataframe thead th {\n",
       "        text-align: right;\n",
       "    }\n",
       "</style>\n",
       "<table border=\"1\" class=\"dataframe\">\n",
       "  <thead>\n",
       "    <tr style=\"text-align: right;\">\n",
       "      <th></th>\n",
       "      <th>from</th>\n",
       "      <th>to</th>\n",
       "      <th>id</th>\n",
       "      <th>title</th>\n",
       "      <th>score</th>\n",
       "      <th>date</th>\n",
       "      <th>comments</th>\n",
       "      <th>parent</th>\n",
       "      <th>humandate</th>\n",
       "    </tr>\n",
       "  </thead>\n",
       "  <tbody>\n",
       "    <tr>\n",
       "      <th>195358</th>\n",
       "      <td>VeganRights</td>\n",
       "      <td>VeganRights</td>\n",
       "      <td>6zgrjk</td>\n",
       "      <td>How to advocate for vegan meals at your local ...</td>\n",
       "      <td>6.0</td>\n",
       "      <td>1.505179e+09</td>\n",
       "      <td>0.0</td>\n",
       "      <td>VeganSchools</td>\n",
       "      <td>2017-09-12 03:10:35</td>\n",
       "    </tr>\n",
       "    <tr>\n",
       "      <th>174027</th>\n",
       "      <td>Petroleum</td>\n",
       "      <td>Petroleum</td>\n",
       "      <td>767ooy</td>\n",
       "      <td>Oil will crash to $10 a barrel with electric v...</td>\n",
       "      <td>1.0</td>\n",
       "      <td>1.507957e+09</td>\n",
       "      <td>1.0</td>\n",
       "      <td>energy</td>\n",
       "      <td>2017-10-14 06:54:05</td>\n",
       "    </tr>\n",
       "    <tr>\n",
       "      <th>144193</th>\n",
       "      <td>Argentinados</td>\n",
       "      <td>Argentinados</td>\n",
       "      <td>79zxke</td>\n",
       "      <td>Radios del Mundo. Genial para conocer nuevas e...</td>\n",
       "      <td>7.0</td>\n",
       "      <td>1.509523e+09</td>\n",
       "      <td>2.0</td>\n",
       "      <td>hackernews</td>\n",
       "      <td>2017-11-01 08:54:27</td>\n",
       "    </tr>\n",
       "    <tr>\n",
       "      <th>150026</th>\n",
       "      <td>Anarchist_Strategy</td>\n",
       "      <td>Anarchist_Strategy</td>\n",
       "      <td>7fdkbw</td>\n",
       "      <td>Guerrilla ISP Communal Internet Gateways</td>\n",
       "      <td>1.0</td>\n",
       "      <td>1.511621e+09</td>\n",
       "      <td>0.0</td>\n",
       "      <td>anarcho_hackers</td>\n",
       "      <td>2017-11-25 15:39:39</td>\n",
       "    </tr>\n",
       "    <tr>\n",
       "      <th>162215</th>\n",
       "      <td>DoseDaily</td>\n",
       "      <td>DoseDaily</td>\n",
       "      <td>7puj7g</td>\n",
       "      <td>Not only did Prop. 64 make pot legal in Califo...</td>\n",
       "      <td>1.0</td>\n",
       "      <td>1.515764e+09</td>\n",
       "      <td>0.0</td>\n",
       "      <td>YouShouldKnow</td>\n",
       "      <td>2018-01-12 14:38:14</td>\n",
       "    </tr>\n",
       "    <tr>\n",
       "      <th>...</th>\n",
       "      <td>...</td>\n",
       "      <td>...</td>\n",
       "      <td>...</td>\n",
       "      <td>...</td>\n",
       "      <td>...</td>\n",
       "      <td>...</td>\n",
       "      <td>...</td>\n",
       "      <td>...</td>\n",
       "      <td>...</td>\n",
       "    </tr>\n",
       "    <tr>\n",
       "      <th>128618</th>\n",
       "      <td>BadTurtleNoLettuce</td>\n",
       "      <td>BadTurtleNoLettuce</td>\n",
       "      <td>knp9zp</td>\n",
       "      <td>No handshake for you</td>\n",
       "      <td>304.0</td>\n",
       "      <td>1.609447e+09</td>\n",
       "      <td>18.0</td>\n",
       "      <td>WatchPeopleDieInside</td>\n",
       "      <td>2020-12-31 21:37:07</td>\n",
       "    </tr>\n",
       "    <tr>\n",
       "      <th>119171</th>\n",
       "      <td>3B9349145EA67F53</td>\n",
       "      <td>3B9349145EA67F53</td>\n",
       "      <td>knpdil</td>\n",
       "      <td>Well that's one way</td>\n",
       "      <td>1.0</td>\n",
       "      <td>1.609447e+09</td>\n",
       "      <td>0.0</td>\n",
       "      <td>memes</td>\n",
       "      <td>2020-12-31 21:44:25</td>\n",
       "    </tr>\n",
       "    <tr>\n",
       "      <th>107363</th>\n",
       "      <td>isthisearth</td>\n",
       "      <td>isthisearth</td>\n",
       "      <td>knpiiq</td>\n",
       "      <td>Aurora Borealis over Iceland</td>\n",
       "      <td>32.0</td>\n",
       "      <td>1.609448e+09</td>\n",
       "      <td>0.0</td>\n",
       "      <td>EarthPorn</td>\n",
       "      <td>2020-12-31 21:54:46</td>\n",
       "    </tr>\n",
       "    <tr>\n",
       "      <th>64400</th>\n",
       "      <td>AntiRoadAction</td>\n",
       "      <td>AntiRoadAction</td>\n",
       "      <td>knqvz7</td>\n",
       "      <td>Such a shame</td>\n",
       "      <td>54.0</td>\n",
       "      <td>1.609454e+09</td>\n",
       "      <td>5.0</td>\n",
       "      <td>MapPorn</td>\n",
       "      <td>2020-12-31 23:27:47</td>\n",
       "    </tr>\n",
       "    <tr>\n",
       "      <th>134543</th>\n",
       "      <td>Caguas</td>\n",
       "      <td>Caguas</td>\n",
       "      <td>knseo4</td>\n",
       "      <td>51.63% of Caguas voted against statehood in No...</td>\n",
       "      <td>8.0</td>\n",
       "      <td>1.609459e+09</td>\n",
       "      <td>1.0</td>\n",
       "      <td>dataisbeautiful</td>\n",
       "      <td>2021-01-01 00:56:10</td>\n",
       "    </tr>\n",
       "  </tbody>\n",
       "</table>\n",
       "<p>8423 rows × 9 columns</p>\n",
       "</div>"
      ],
      "text/plain": [
       "                      from                  to      id  \\\n",
       "195358         VeganRights         VeganRights  6zgrjk   \n",
       "174027           Petroleum           Petroleum  767ooy   \n",
       "144193        Argentinados        Argentinados  79zxke   \n",
       "150026  Anarchist_Strategy  Anarchist_Strategy  7fdkbw   \n",
       "162215           DoseDaily           DoseDaily  7puj7g   \n",
       "...                    ...                 ...     ...   \n",
       "128618  BadTurtleNoLettuce  BadTurtleNoLettuce  knp9zp   \n",
       "119171    3B9349145EA67F53    3B9349145EA67F53  knpdil   \n",
       "107363         isthisearth         isthisearth  knpiiq   \n",
       "64400       AntiRoadAction      AntiRoadAction  knqvz7   \n",
       "134543              Caguas              Caguas  knseo4   \n",
       "\n",
       "                                                    title  score  \\\n",
       "195358  How to advocate for vegan meals at your local ...    6.0   \n",
       "174027  Oil will crash to $10 a barrel with electric v...    1.0   \n",
       "144193  Radios del Mundo. Genial para conocer nuevas e...    7.0   \n",
       "150026           Guerrilla ISP Communal Internet Gateways    1.0   \n",
       "162215  Not only did Prop. 64 make pot legal in Califo...    1.0   \n",
       "...                                                   ...    ...   \n",
       "128618                               No handshake for you  304.0   \n",
       "119171                                Well that's one way    1.0   \n",
       "107363                       Aurora Borealis over Iceland   32.0   \n",
       "64400                                        Such a shame   54.0   \n",
       "134543  51.63% of Caguas voted against statehood in No...    8.0   \n",
       "\n",
       "                date  comments                parent            humandate  \n",
       "195358  1.505179e+09       0.0          VeganSchools  2017-09-12 03:10:35  \n",
       "174027  1.507957e+09       1.0                energy  2017-10-14 06:54:05  \n",
       "144193  1.509523e+09       2.0            hackernews  2017-11-01 08:54:27  \n",
       "150026  1.511621e+09       0.0       anarcho_hackers  2017-11-25 15:39:39  \n",
       "162215  1.515764e+09       0.0         YouShouldKnow  2018-01-12 14:38:14  \n",
       "...              ...       ...                   ...                  ...  \n",
       "128618  1.609447e+09      18.0  WatchPeopleDieInside  2020-12-31 21:37:07  \n",
       "119171  1.609447e+09       0.0                 memes  2020-12-31 21:44:25  \n",
       "107363  1.609448e+09       0.0             EarthPorn  2020-12-31 21:54:46  \n",
       "64400   1.609454e+09       5.0               MapPorn  2020-12-31 23:27:47  \n",
       "134543  1.609459e+09       1.0       dataisbeautiful  2021-01-01 00:56:10  \n",
       "\n",
       "[8423 rows x 9 columns]"
      ]
     },
     "execution_count": 8,
     "metadata": {},
     "output_type": "execute_result"
    }
   ],
   "source": [
    "post_pre_2021 = oldest[oldest['date']<1609459200]\n",
    "post_pre_2021"
   ]
  },
  {
   "cell_type": "markdown",
   "metadata": {},
   "source": [
    "The posts that had been posted before 2021 were selected using R on the dataset. After that, with a python script, the members of the subreddits where those posts had been submitted to were collected with a script*. Therefore, subs_pre_2021 contains the number of members of a subreddit with \"hot\" posts dated older than 2021, 4 months prior to the network scraping.\n",
    "\n",
    "Note: the number of members of the selected subreddits was collected approximately a month and a half after the initial data scraping. Four subreddits from the partial dataset had been banned in the meanwhile. They have been ignored for the data collection."
   ]
  },
  {
   "cell_type": "code",
   "execution_count": 9,
   "metadata": {},
   "outputs": [
    {
     "data": {
      "text/html": [
       "<div>\n",
       "<style scoped>\n",
       "    .dataframe tbody tr th:only-of-type {\n",
       "        vertical-align: middle;\n",
       "    }\n",
       "\n",
       "    .dataframe tbody tr th {\n",
       "        vertical-align: top;\n",
       "    }\n",
       "\n",
       "    .dataframe thead th {\n",
       "        text-align: right;\n",
       "    }\n",
       "</style>\n",
       "<table border=\"1\" class=\"dataframe\">\n",
       "  <thead>\n",
       "    <tr style=\"text-align: right;\">\n",
       "      <th></th>\n",
       "      <th>subreddit</th>\n",
       "      <th>subscribers</th>\n",
       "    </tr>\n",
       "  </thead>\n",
       "  <tbody>\n",
       "    <tr>\n",
       "      <th>951</th>\n",
       "      <td>FunnyASF</td>\n",
       "      <td>81</td>\n",
       "    </tr>\n",
       "    <tr>\n",
       "      <th>952</th>\n",
       "      <td>anticentrism</td>\n",
       "      <td>2198</td>\n",
       "    </tr>\n",
       "    <tr>\n",
       "      <th>953</th>\n",
       "      <td>Pleelb</td>\n",
       "      <td>3</td>\n",
       "    </tr>\n",
       "    <tr>\n",
       "      <th>954</th>\n",
       "      <td>holdmybraincells</td>\n",
       "      <td>46790</td>\n",
       "    </tr>\n",
       "    <tr>\n",
       "      <th>955</th>\n",
       "      <td>fuckyoujeffbezos</td>\n",
       "      <td>63</td>\n",
       "    </tr>\n",
       "  </tbody>\n",
       "</table>\n",
       "</div>"
      ],
      "text/plain": [
       "            subreddit  subscribers\n",
       "951          FunnyASF           81\n",
       "952      anticentrism         2198\n",
       "953            Pleelb            3\n",
       "954  holdmybraincells        46790\n",
       "955  fuckyoujeffbezos           63"
      ]
     },
     "execution_count": 9,
     "metadata": {},
     "output_type": "execute_result"
    }
   ],
   "source": [
    "subs_pre_2021 = pd.read_csv(\"D:/Dati PRAW/Project_Social_Network_Analysis-main/Project_Social_Network_Analysis-main/scraping data/data/subscribers_postpre2021.csv\",index_col=None)\n",
    "subs_pre_2021.tail()"
   ]
  },
  {
   "cell_type": "code",
   "execution_count": 10,
   "metadata": {},
   "outputs": [
    {
     "data": {
      "image/png": "[encoded data removed]",
      "text/plain": [
       "<Figure size 1000x500 with 1 Axes>"
      ]
     },
     "metadata": {
      "needs_background": "light"
     },
     "output_type": "display_data"
    }
   ],
   "source": [
    "plt.rcParams.update({'figure.figsize':(10,5), 'figure.dpi':100})\n",
    "plt.hist(subs_pre_2021['subscribers'], bins = 50, rwidth = 0.2)\n",
    "x=[0,800000]\n",
    "plt.xticks(np.arange(min(x), max(x)+1, 20000.0), rotation=45)\n",
    "plt.title('Distribuzione delle subreddit (post precedenti al 2021)')\n",
    "plt.show()"
   ]
  },
  {
   "cell_type": "markdown",
   "metadata": {},
   "source": [
    "From the distribution is immediately evident how the subreddits with old \"hot\" posts are for the most part subreddits with a very low number of members."
   ]
  },
  {
   "cell_type": "markdown",
   "metadata": {},
   "source": [
    "With R we extracted the parameters of the distribution (subs_pre_2021):\n",
    "\n",
    "+ 0   51  383 2077 5111 (lower whisker, first quartile, median, third quartile, upper whisker)\n",
    "+ 957 rows\n",
    "+ lower and upper extremes of the notch: 279.5238, 486.4762\n",
    "+ outliers:\n",
    "31269   9393   9539  24072  11424   7583   7253  21126 139645   5311   6445\n",
    "11263  12354   8643  11603  12071  16845   9117  12671  26473 111680   5148\n",
    "10974  23004  13533  14990  12913  17888  11874  11066  13457  26824 308081\n",
    "18823  15128  30961  75253   6556 139183   9206   5515  26705  21387  37829\n",
    "822099   9962  30205   5182  12105   6664   9526   5895  15057  10472   5307\n",
    "51344   7768  48181  42431   8069  24295   8009   5858   6675  12656  95864\n",
    "129604  11843  20241  31578  10078   8219   7796  23564   7062  11047  35547\n",
    "13721   7586   9459   5861   5233  46453  34573  57265   8563   8694   7854\n",
    "5306  17496   5341   6046   5616   5490   5966  22693  10361  14617   9870\n",
    "6665 332928  19387  20375  66962  41084  16657  17239   5414  15290  10234\n",
    "7460  33595   8320   8690   5275   8191  59205   6134  19204  13378  15599\n",
    "6265  16152   5530  28934  46484   8162   5506  12758  15240  82263  46790\n",
    "\n",
    "(132 outliers)\n",
    "\n",
    "Drawing the graph excluding the outliers:"
   ]
  },
  {
   "cell_type": "code",
   "execution_count": 11,
   "metadata": {},
   "outputs": [
    {
     "data": {
      "image/png": "[encoded data removed]",
      "text/plain": [
       "<Figure size 1000x500 with 1 Axes>"
      ]
     },
     "metadata": {
      "needs_background": "light"
     },
     "output_type": "display_data"
    }
   ],
   "source": [
    "plt.rcParams.update({'figure.figsize':(10,5), 'figure.dpi':100})\n",
    "plt.hist(subs_pre_2021['subscribers'], bins = 10000, rwidth = 0.2)\n",
    "x=[0,6000]\n",
    "plt.xticks(np.arange(min(x), max(x)+1, 500.0), rotation=45)\n",
    "plt.xlim([0, 5112])\n",
    "plt.show()"
   ]
  },
  {
   "cell_type": "markdown",
   "metadata": {},
   "source": [
    "Having very old crossposts among the \"hot\" ones appears to be a sign of a not very active subreddit."
   ]
  },
  {
   "cell_type": "markdown",
   "metadata": {},
   "source": [
    "By randomly checking some posts in the set of posts older than 2021, we realised that pinned posts were included in the data. The pinned status of the posts in the set was retrieved with a python script."
   ]
  },
  {
   "cell_type": "code",
   "execution_count": 4,
   "metadata": {},
   "outputs": [
    {
     "name": "stdout",
     "output_type": "stream",
     "text": [
      "Number of pinned posts in the pre-2021 dataset: 80\n"
     ]
    }
   ],
   "source": [
    "# dataset with posts dated older than 2021 with from == to, and added column pinned (true, false, NaN)\n",
    "data_p = pd.read_csv(\"D:/Dati PRAW/Project_Social_Network_Analysis-main/Project_Social_Network_Analysis-main/scraping data/data/pre_2021_pinned.csv\",index_col=0)\n",
    "# none of the posts in the set had been deleted since the original scraping\n",
    "# the posts on banned subreddits were given a null value\n",
    "\n",
    "print(\"Number of pinned posts in the pre-2021 dataset:\",data_p[data_p['pinned']==True].shape[0])"
   ]
  },
  {
   "cell_type": "code",
   "execution_count": 5,
   "metadata": {},
   "outputs": [
    {
     "name": "stdout",
     "output_type": "stream",
     "text": [
      "Number of not-pinned posts in the pre-2021 dataset: 8319\n",
      "Number of NULL status posts in the pre-2021 dataset: 24\n"
     ]
    }
   ],
   "source": [
    "print(\"Number of not-pinned posts in the pre-2021 dataset:\",data_p[data_p['pinned']==False].shape[0])\n",
    "print(\"Number of NULL status posts in the pre-2021 dataset:\",data_p[data_p['pinned'].isnull()].shape[0])"
   ]
  },
  {
   "cell_type": "markdown",
   "metadata": {},
   "source": [
    "We counted the number of not pinned posts for each subreddit."
   ]
  },
  {
   "cell_type": "code",
   "execution_count": 14,
   "metadata": {},
   "outputs": [
    {
     "data": {
      "text/html": [
       "<div>\n",
       "<style scoped>\n",
       "    .dataframe tbody tr th:only-of-type {\n",
       "        vertical-align: middle;\n",
       "    }\n",
       "\n",
       "    .dataframe tbody tr th {\n",
       "        vertical-align: top;\n",
       "    }\n",
       "\n",
       "    .dataframe thead th {\n",
       "        text-align: right;\n",
       "    }\n",
       "</style>\n",
       "<table border=\"1\" class=\"dataframe\">\n",
       "  <thead>\n",
       "    <tr style=\"text-align: right;\">\n",
       "      <th></th>\n",
       "      <th>subreddit</th>\n",
       "      <th>subscribers</th>\n",
       "      <th>posts</th>\n",
       "    </tr>\n",
       "  </thead>\n",
       "  <tbody>\n",
       "    <tr>\n",
       "      <th>0</th>\n",
       "      <td>VeganRights</td>\n",
       "      <td>537</td>\n",
       "      <td>5</td>\n",
       "    </tr>\n",
       "    <tr>\n",
       "      <th>1</th>\n",
       "      <td>Petroleum</td>\n",
       "      <td>1508</td>\n",
       "      <td>1</td>\n",
       "    </tr>\n",
       "    <tr>\n",
       "      <th>2</th>\n",
       "      <td>Argentinados</td>\n",
       "      <td>173</td>\n",
       "      <td>1</td>\n",
       "    </tr>\n",
       "    <tr>\n",
       "      <th>3</th>\n",
       "      <td>Anarchist_Strategy</td>\n",
       "      <td>1125</td>\n",
       "      <td>7</td>\n",
       "    </tr>\n",
       "    <tr>\n",
       "      <th>4</th>\n",
       "      <td>DoseDaily</td>\n",
       "      <td>4</td>\n",
       "      <td>7</td>\n",
       "    </tr>\n",
       "    <tr>\n",
       "      <th>...</th>\n",
       "      <td>...</td>\n",
       "      <td>...</td>\n",
       "      <td>...</td>\n",
       "    </tr>\n",
       "    <tr>\n",
       "      <th>951</th>\n",
       "      <td>FunnyASF</td>\n",
       "      <td>81</td>\n",
       "      <td>2</td>\n",
       "    </tr>\n",
       "    <tr>\n",
       "      <th>952</th>\n",
       "      <td>anticentrism</td>\n",
       "      <td>2198</td>\n",
       "      <td>1</td>\n",
       "    </tr>\n",
       "    <tr>\n",
       "      <th>953</th>\n",
       "      <td>Pleelb</td>\n",
       "      <td>3</td>\n",
       "      <td>10</td>\n",
       "    </tr>\n",
       "    <tr>\n",
       "      <th>954</th>\n",
       "      <td>holdmybraincells</td>\n",
       "      <td>46790</td>\n",
       "      <td>1</td>\n",
       "    </tr>\n",
       "    <tr>\n",
       "      <th>955</th>\n",
       "      <td>fuckyoujeffbezos</td>\n",
       "      <td>63</td>\n",
       "      <td>1</td>\n",
       "    </tr>\n",
       "  </tbody>\n",
       "</table>\n",
       "<p>956 rows × 3 columns</p>\n",
       "</div>"
      ],
      "text/plain": [
       "              subreddit  subscribers  posts\n",
       "0           VeganRights          537      5\n",
       "1             Petroleum         1508      1\n",
       "2          Argentinados          173      1\n",
       "3    Anarchist_Strategy         1125      7\n",
       "4             DoseDaily            4      7\n",
       "..                  ...          ...    ...\n",
       "951            FunnyASF           81      2\n",
       "952        anticentrism         2198      1\n",
       "953              Pleelb            3     10\n",
       "954    holdmybraincells        46790      1\n",
       "955    fuckyoujeffbezos           63      1\n",
       "\n",
       "[956 rows x 3 columns]"
      ]
     },
     "execution_count": 14,
     "metadata": {},
     "output_type": "execute_result"
    }
   ],
   "source": [
    "n_posts = []\n",
    "for row in subs_pre_2021.itertuples():\n",
    "    n = data_p.loc[(data_p['from']==row[1]) & (data_p['pinned']==False)].shape[0]\n",
    "    n_posts.append(n)\n",
    "\n",
    "subs_pre_2021['posts']=n_posts\n",
    "subs_pre_2021"
   ]
  },
  {
   "cell_type": "code",
   "execution_count": 15,
   "metadata": {},
   "outputs": [
    {
     "data": {
      "image/png": "[encoded data removed]",
      "text/plain": [
       "<Figure size 1000x500 with 1 Axes>"
      ]
     },
     "metadata": {
      "needs_background": "light"
     },
     "output_type": "display_data"
    }
   ],
   "source": [
    "from imp import reload\n",
    "reload(plt)\n",
    "plt.scatter(x=subs_pre_2021['subscribers'], y=subs_pre_2021['posts'], s=1.5)\n",
    "plt.title('Distribution of subreddit subscribers for number of old posts in the dataset')\n",
    "plt.xlabel('Subscribers')\n",
    "plt.ylabel('N. of posts in the dataset')\n",
    "plt.show()"
   ]
  },
  {
   "cell_type": "code",
   "execution_count": 16,
   "metadata": {},
   "outputs": [
    {
     "data": {
      "image/png": "[encoded data removed]",
      "text/plain": [
       "<Figure size 1000x500 with 1 Axes>"
      ]
     },
     "metadata": {
      "needs_background": "light"
     },
     "output_type": "display_data"
    }
   ],
   "source": [
    "# omitting the outliers\n",
    "ordered_subs = subs_pre_2021.sort_values(by='subscribers',ascending = True)\n",
    "plt.scatter(x=subs_pre_2021['subscribers'], y=subs_pre_2021['posts'], s=1.5)\n",
    "x=[0,6000]\n",
    "plt.xticks(np.arange(min(x), max(x)+1, 500.0), rotation=45)\n",
    "plt.xlim([0, 5112])\n",
    "plt.title('Distribution of subreddit subscribers for number of old posts in the dataset')\n",
    "plt.xlabel('Subscribers')\n",
    "plt.ylabel('N. of posts in the dataset')\n",
    "plt.show()"
   ]
  }
 ],
 "metadata": {
  "kernelspec": {
   "display_name": "Python 3",
   "language": "python",
   "name": "python3"
  },
  "language_info": {
   "codemirror_mode": {
    "name": "ipython",
    "version": 3
   },
   "file_extension": ".py",
   "mimetype": "text/x-python",
   "name": "python",
   "nbconvert_exporter": "python",
   "pygments_lexer": "ipython3",
   "version": "3.8.5"
  }
 },
 "nbformat": 4,
 "nbformat_minor": 4
}
