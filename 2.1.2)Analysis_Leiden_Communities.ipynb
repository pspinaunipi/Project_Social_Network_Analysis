{
 "cells": [
  {
   "cell_type": "markdown",
   "metadata": {},
   "source": [
    "## 2.1.2 Analysis of the discovered community\n",
    "In this notebook we analyze the community discovered with with the Leiden method."
   ]
  },
  {
   "cell_type": "markdown",
   "metadata": {},
   "source": [
    "<a id=\"top\"></a>\n",
    "### Table of Contents\n",
    "1. [Data](#data)\n",
    "2. [Leiden Communities](#leiden)\n",
    "3. [Explore Communities ](#explore)\n",
    "\n",
    "   "
   ]
  },
  {
   "cell_type": "code",
   "execution_count": 1,
   "metadata": {},
   "outputs": [
    {
     "name": "stderr",
     "output_type": "stream",
     "text": [
      "C:\\Users\\cinzia\\anaconda3\\lib\\site-packages\\gensim\\similarities\\__init__.py:15: UserWarning: The gensim.similarities.levenshtein submodule is disabled, because the optional Levenshtein package <https://pypi.org/project/python-Levenshtein/> is unavailable. Install Levenhstein (e.g. `pip install python-Levenshtein`) to suppress this warning.\n",
      "  warnings.warn(msg)\n"
     ]
    }
   ],
   "source": [
    "import warnings\n",
    "from collections import Counter\n",
    "import numpy as np\n",
    "import pandas as pd\n",
    "import networkx as nx\n",
    "import cdlib\n",
    "from cdlib import algorithms\n",
    "from cdlib import ensemble as en\n",
    "from cdlib import evaluation as evaluation\n",
    "from cdlib import viz\n",
    "import matplotlib.pyplot as plt\n",
    "import datetime\n",
    "from cdlib import algorithms, readwrite\n",
    "warnings.filterwarnings('ignore')"
   ]
  },
  {
   "cell_type": "code",
   "execution_count": 2,
   "metadata": {},
   "outputs": [],
   "source": [
    "def mesure_graph(DG):\n",
    "    print('The Network DG has:\\n Number of Nodes = ',DG.number_of_nodes(),'\\n Number of Edges = ',DG.number_of_edges(),'\\n')\n",
    "    print('Average degree of \"edges, links\" = ',sum(dict(DG.degree()).values())/float(len(DG)))\n",
    "    print('Is a Directed Network ?',DG.is_directed())"
   ]
  },
  {
   "cell_type": "markdown",
   "metadata": {},
   "source": [
    "<a id=\"data\"></a>\n",
    "### 1. Data:([to top](#top))"
   ]
  },
  {
   "cell_type": "markdown",
   "metadata": {},
   "source": [
    "#### Top 100 subreddits"
   ]
  },
  {
   "cell_type": "code",
   "execution_count": 3,
   "metadata": {},
   "outputs": [
    {
     "data": {
      "text/html": [
       "<div>\n",
       "<style scoped>\n",
       "    .dataframe tbody tr th:only-of-type {\n",
       "        vertical-align: middle;\n",
       "    }\n",
       "\n",
       "    .dataframe tbody tr th {\n",
       "        vertical-align: top;\n",
       "    }\n",
       "\n",
       "    .dataframe thead th {\n",
       "        text-align: right;\n",
       "    }\n",
       "</style>\n",
       "<table border=\"1\" class=\"dataframe\">\n",
       "  <thead>\n",
       "    <tr style=\"text-align: right;\">\n",
       "      <th></th>\n",
       "      <th>Subreddit</th>\n",
       "      <th>Members</th>\n",
       "      <th>Type</th>\n",
       "      <th>Theme</th>\n",
       "    </tr>\n",
       "  </thead>\n",
       "  <tbody>\n",
       "    <tr>\n",
       "      <th>0.0</th>\n",
       "      <td>politics</td>\n",
       "      <td>high</td>\n",
       "      <td>News</td>\n",
       "      <td>politics</td>\n",
       "    </tr>\n",
       "    <tr>\n",
       "      <th>1.0</th>\n",
       "      <td>interstingasfuck</td>\n",
       "      <td>high</td>\n",
       "      <td>Media share</td>\n",
       "      <td>melting pot</td>\n",
       "    </tr>\n",
       "    <tr>\n",
       "      <th>2.0</th>\n",
       "      <td>PublicFreakout</td>\n",
       "      <td>high</td>\n",
       "      <td>Media share</td>\n",
       "      <td>politics</td>\n",
       "    </tr>\n",
       "    <tr>\n",
       "      <th>3.0</th>\n",
       "      <td>nextfuckinglevel</td>\n",
       "      <td>high</td>\n",
       "      <td>Media share</td>\n",
       "      <td>melting pot</td>\n",
       "    </tr>\n",
       "    <tr>\n",
       "      <th>4.0</th>\n",
       "      <td>aww</td>\n",
       "      <td>very high</td>\n",
       "      <td>Media share</td>\n",
       "      <td>animals</td>\n",
       "    </tr>\n",
       "    <tr>\n",
       "      <th>5.0</th>\n",
       "      <td>funny</td>\n",
       "      <td>very high</td>\n",
       "      <td>Media share</td>\n",
       "      <td>memes</td>\n",
       "    </tr>\n",
       "    <tr>\n",
       "      <th>6.0</th>\n",
       "      <td>Unexpected</td>\n",
       "      <td>high</td>\n",
       "      <td>Media share</td>\n",
       "      <td>memes</td>\n",
       "    </tr>\n",
       "    <tr>\n",
       "      <th>7.0</th>\n",
       "      <td>worldnews</td>\n",
       "      <td>very high</td>\n",
       "      <td>News</td>\n",
       "      <td>politics</td>\n",
       "    </tr>\n",
       "    <tr>\n",
       "      <th>8.0</th>\n",
       "      <td>news</td>\n",
       "      <td>very high</td>\n",
       "      <td>News</td>\n",
       "      <td>news</td>\n",
       "    </tr>\n",
       "    <tr>\n",
       "      <th>9.0</th>\n",
       "      <td>Damnthatsinteresting</td>\n",
       "      <td>high</td>\n",
       "      <td>Media share</td>\n",
       "      <td>melting pot</td>\n",
       "    </tr>\n",
       "  </tbody>\n",
       "</table>\n",
       "</div>"
      ],
      "text/plain": [
       "                Subreddit    Members        Type         Theme\n",
       "0.0              politics       high         News     politics\n",
       "1.0      interstingasfuck       high  Media share  melting pot\n",
       "2.0        PublicFreakout       high  Media share     politics\n",
       "3.0      nextfuckinglevel       high  Media share  melting pot\n",
       "4.0                   aww  very high  Media share      animals\n",
       "5.0                 funny  very high  Media share        memes\n",
       "6.0            Unexpected       high  Media share        memes\n",
       "7.0             worldnews  very high         News     politics\n",
       "8.0                  news  very high         News         news\n",
       "9.0  Damnthatsinteresting       high  Media share  melting pot"
      ]
     },
     "execution_count": 3,
     "metadata": {},
     "output_type": "execute_result"
    }
   ],
   "source": [
    "data_parents = pd.read_csv(\"scraping data/data/data_parents.csv\",index_col=0,sep=\";\")\n",
    "data_parents.head(10)"
   ]
  },
  {
   "cell_type": "markdown",
   "metadata": {},
   "source": [
    "#### Data Subreddit cleaned"
   ]
  },
  {
   "cell_type": "code",
   "execution_count": 4,
   "metadata": {},
   "outputs": [
    {
     "data": {
      "text/html": [
       "<div>\n",
       "<style scoped>\n",
       "    .dataframe tbody tr th:only-of-type {\n",
       "        vertical-align: middle;\n",
       "    }\n",
       "\n",
       "    .dataframe tbody tr th {\n",
       "        vertical-align: top;\n",
       "    }\n",
       "\n",
       "    .dataframe thead th {\n",
       "        text-align: right;\n",
       "    }\n",
       "</style>\n",
       "<table border=\"1\" class=\"dataframe\">\n",
       "  <thead>\n",
       "    <tr style=\"text-align: right;\">\n",
       "      <th></th>\n",
       "      <th>Unnamed: 0</th>\n",
       "      <th>from</th>\n",
       "      <th>to</th>\n",
       "      <th>id</th>\n",
       "      <th>title</th>\n",
       "      <th>score</th>\n",
       "      <th>date</th>\n",
       "      <th>comments</th>\n",
       "      <th>parent</th>\n",
       "    </tr>\n",
       "  </thead>\n",
       "  <tbody>\n",
       "    <tr>\n",
       "      <th>0</th>\n",
       "      <td>0</td>\n",
       "      <td>environment</td>\n",
       "      <td>environment</td>\n",
       "      <td>mx0fiv</td>\n",
       "      <td>MT Gov. Greg Gianforte Illegally Trapped, Kill...</td>\n",
       "      <td>1656.0</td>\n",
       "      <td>1.619228e+09</td>\n",
       "      <td>90.0</td>\n",
       "      <td>nature</td>\n",
       "    </tr>\n",
       "    <tr>\n",
       "      <th>1</th>\n",
       "      <td>1</td>\n",
       "      <td>environment</td>\n",
       "      <td>EcoNewsNetwork</td>\n",
       "      <td>mx6no0</td>\n",
       "      <td>MT Gov. Greg Gianforte Illegally Trapped, Kill...</td>\n",
       "      <td>8.0</td>\n",
       "      <td>1.619245e+09</td>\n",
       "      <td>0.0</td>\n",
       "      <td>nature</td>\n",
       "    </tr>\n",
       "    <tr>\n",
       "      <th>2</th>\n",
       "      <td>2</td>\n",
       "      <td>environment</td>\n",
       "      <td>environment</td>\n",
       "      <td>mwumok</td>\n",
       "      <td>Tax breaks for fossil fuels 'a disgrace,' Gret...</td>\n",
       "      <td>1216.0</td>\n",
       "      <td>1.619211e+09</td>\n",
       "      <td>33.0</td>\n",
       "      <td>WomenInNews</td>\n",
       "    </tr>\n",
       "    <tr>\n",
       "      <th>3</th>\n",
       "      <td>3</td>\n",
       "      <td>environment</td>\n",
       "      <td>TheFightThatMatters</td>\n",
       "      <td>mx3brt</td>\n",
       "      <td>Tax breaks for fossil fuels 'a disgrace,' Gret...</td>\n",
       "      <td>1.0</td>\n",
       "      <td>1.619236e+09</td>\n",
       "      <td>0.0</td>\n",
       "      <td>WomenInNews</td>\n",
       "    </tr>\n",
       "    <tr>\n",
       "      <th>4</th>\n",
       "      <td>4</td>\n",
       "      <td>environment</td>\n",
       "      <td>EcoNewsNetwork</td>\n",
       "      <td>mx34qj</td>\n",
       "      <td>Tax breaks for fossil fuels 'a disgrace,' Gret...</td>\n",
       "      <td>2.0</td>\n",
       "      <td>1.619235e+09</td>\n",
       "      <td>0.0</td>\n",
       "      <td>WomenInNews</td>\n",
       "    </tr>\n",
       "  </tbody>\n",
       "</table>\n",
       "</div>"
      ],
      "text/plain": [
       "   Unnamed: 0         from                   to      id  \\\n",
       "0           0  environment          environment  mx0fiv   \n",
       "1           1  environment       EcoNewsNetwork  mx6no0   \n",
       "2           2  environment          environment  mwumok   \n",
       "3           3  environment  TheFightThatMatters  mx3brt   \n",
       "4           4  environment       EcoNewsNetwork  mx34qj   \n",
       "\n",
       "                                               title   score          date  \\\n",
       "0  MT Gov. Greg Gianforte Illegally Trapped, Kill...  1656.0  1.619228e+09   \n",
       "1  MT Gov. Greg Gianforte Illegally Trapped, Kill...     8.0  1.619245e+09   \n",
       "2  Tax breaks for fossil fuels 'a disgrace,' Gret...  1216.0  1.619211e+09   \n",
       "3  Tax breaks for fossil fuels 'a disgrace,' Gret...     1.0  1.619236e+09   \n",
       "4  Tax breaks for fossil fuels 'a disgrace,' Gret...     2.0  1.619235e+09   \n",
       "\n",
       "   comments       parent  \n",
       "0      90.0       nature  \n",
       "1       0.0       nature  \n",
       "2      33.0  WomenInNews  \n",
       "3       0.0  WomenInNews  \n",
       "4       0.0  WomenInNews  "
      ]
     },
     "execution_count": 4,
     "metadata": {},
     "output_type": "execute_result"
    }
   ],
   "source": [
    "df = pd.read_csv(\"scraping data/data/data_subreddit_cleaned.csv\")\n",
    "df.head()"
   ]
  },
  {
   "cell_type": "markdown",
   "metadata": {},
   "source": [
    "#### Data for Direct graph"
   ]
  },
  {
   "cell_type": "code",
   "execution_count": 5,
   "metadata": {},
   "outputs": [
    {
     "data": {
      "text/html": [
       "<div>\n",
       "<style scoped>\n",
       "    .dataframe tbody tr th:only-of-type {\n",
       "        vertical-align: middle;\n",
       "    }\n",
       "\n",
       "    .dataframe tbody tr th {\n",
       "        vertical-align: top;\n",
       "    }\n",
       "\n",
       "    .dataframe thead th {\n",
       "        text-align: right;\n",
       "    }\n",
       "</style>\n",
       "<table border=\"1\" class=\"dataframe\">\n",
       "  <thead>\n",
       "    <tr style=\"text-align: right;\">\n",
       "      <th></th>\n",
       "      <th>parent</th>\n",
       "      <th>to</th>\n",
       "      <th>interactions</th>\n",
       "      <th>crossposts</th>\n",
       "      <th>date</th>\n",
       "      <th>weights</th>\n",
       "    </tr>\n",
       "  </thead>\n",
       "  <tbody>\n",
       "    <tr>\n",
       "      <th>0</th>\n",
       "      <td>nature</td>\n",
       "      <td>environment</td>\n",
       "      <td>1746.0</td>\n",
       "      <td>1</td>\n",
       "      <td>1.619228e+09</td>\n",
       "      <td>7.465655</td>\n",
       "    </tr>\n",
       "    <tr>\n",
       "      <th>1</th>\n",
       "      <td>nature</td>\n",
       "      <td>EcoNewsNetwork</td>\n",
       "      <td>154.0</td>\n",
       "      <td>13</td>\n",
       "      <td>1.615282e+09</td>\n",
       "      <td>5.043425</td>\n",
       "    </tr>\n",
       "    <tr>\n",
       "      <th>2</th>\n",
       "      <td>nature</td>\n",
       "      <td>PublicLands</td>\n",
       "      <td>3.0</td>\n",
       "      <td>1</td>\n",
       "      <td>1.619177e+09</td>\n",
       "      <td>1.386294</td>\n",
       "    </tr>\n",
       "    <tr>\n",
       "      <th>3</th>\n",
       "      <td>nature</td>\n",
       "      <td>EndangeredSpecies</td>\n",
       "      <td>28.0</td>\n",
       "      <td>2</td>\n",
       "      <td>1.618449e+09</td>\n",
       "      <td>3.367296</td>\n",
       "    </tr>\n",
       "    <tr>\n",
       "      <th>4</th>\n",
       "      <td>nature</td>\n",
       "      <td>animalimpact</td>\n",
       "      <td>5.0</td>\n",
       "      <td>3</td>\n",
       "      <td>1.615263e+09</td>\n",
       "      <td>1.791759</td>\n",
       "    </tr>\n",
       "  </tbody>\n",
       "</table>\n",
       "</div>"
      ],
      "text/plain": [
       "   parent                 to  interactions  crossposts          date   weights\n",
       "0  nature        environment        1746.0           1  1.619228e+09  7.465655\n",
       "1  nature     EcoNewsNetwork         154.0          13  1.615282e+09  5.043425\n",
       "2  nature        PublicLands           3.0           1  1.619177e+09  1.386294\n",
       "3  nature  EndangeredSpecies          28.0           2  1.618449e+09  3.367296\n",
       "4  nature       animalimpact           5.0           3  1.615263e+09  1.791759"
      ]
     },
     "execution_count": 5,
     "metadata": {},
     "output_type": "execute_result"
    }
   ],
   "source": [
    "df1 = pd.read_csv(\"scraping data/data/data_subreddit_direct.csv\",index_col=0)\n",
    "\n",
    "#delete the columns \n",
    "#columns2remove = ['date']\n",
    "#df2.drop(columns2remove, inplace=True, axis=1)\n",
    "df1.head()\n"
   ]
  },
  {
   "cell_type": "markdown",
   "metadata": {},
   "source": [
    " #### Data for Undirect graph"
   ]
  },
  {
   "cell_type": "code",
   "execution_count": 6,
   "metadata": {},
   "outputs": [
    {
     "data": {
      "text/html": [
       "<div>\n",
       "<style scoped>\n",
       "    .dataframe tbody tr th:only-of-type {\n",
       "        vertical-align: middle;\n",
       "    }\n",
       "\n",
       "    .dataframe tbody tr th {\n",
       "        vertical-align: top;\n",
       "    }\n",
       "\n",
       "    .dataframe thead th {\n",
       "        text-align: right;\n",
       "    }\n",
       "</style>\n",
       "<table border=\"1\" class=\"dataframe\">\n",
       "  <thead>\n",
       "    <tr style=\"text-align: right;\">\n",
       "      <th></th>\n",
       "      <th>parent</th>\n",
       "      <th>to</th>\n",
       "      <th>interactions</th>\n",
       "      <th>crossposts</th>\n",
       "      <th>date</th>\n",
       "      <th>weights</th>\n",
       "    </tr>\n",
       "  </thead>\n",
       "  <tbody>\n",
       "    <tr>\n",
       "      <th>0</th>\n",
       "      <td>nature</td>\n",
       "      <td>environment</td>\n",
       "      <td>1965.0</td>\n",
       "      <td>3</td>\n",
       "      <td>1.609549e+09</td>\n",
       "      <td>7.583756</td>\n",
       "    </tr>\n",
       "    <tr>\n",
       "      <th>1</th>\n",
       "      <td>nature</td>\n",
       "      <td>EcoNewsNetwork</td>\n",
       "      <td>292.0</td>\n",
       "      <td>18</td>\n",
       "      <td>1.615282e+09</td>\n",
       "      <td>5.680173</td>\n",
       "    </tr>\n",
       "    <tr>\n",
       "      <th>2</th>\n",
       "      <td>nature</td>\n",
       "      <td>PublicLands</td>\n",
       "      <td>3.0</td>\n",
       "      <td>1</td>\n",
       "      <td>1.619177e+09</td>\n",
       "      <td>1.386294</td>\n",
       "    </tr>\n",
       "    <tr>\n",
       "      <th>3</th>\n",
       "      <td>nature</td>\n",
       "      <td>EndangeredSpecies</td>\n",
       "      <td>28.0</td>\n",
       "      <td>2</td>\n",
       "      <td>1.618449e+09</td>\n",
       "      <td>3.367296</td>\n",
       "    </tr>\n",
       "    <tr>\n",
       "      <th>4</th>\n",
       "      <td>nature</td>\n",
       "      <td>animalimpact</td>\n",
       "      <td>5.0</td>\n",
       "      <td>3</td>\n",
       "      <td>1.615263e+09</td>\n",
       "      <td>1.791759</td>\n",
       "    </tr>\n",
       "  </tbody>\n",
       "</table>\n",
       "</div>"
      ],
      "text/plain": [
       "   parent                 to  interactions  crossposts          date   weights\n",
       "0  nature        environment        1965.0           3  1.609549e+09  7.583756\n",
       "1  nature     EcoNewsNetwork         292.0          18  1.615282e+09  5.680173\n",
       "2  nature        PublicLands           3.0           1  1.619177e+09  1.386294\n",
       "3  nature  EndangeredSpecies          28.0           2  1.618449e+09  3.367296\n",
       "4  nature       animalimpact           5.0           3  1.615263e+09  1.791759"
      ]
     },
     "execution_count": 6,
     "metadata": {},
     "output_type": "execute_result"
    }
   ],
   "source": [
    "dfg = pd.read_csv(\"scraping data/data/data_subreddit_Undirect.csv\",index_col=0)\n",
    "\n",
    "dfg1=dfg.copy()\n",
    "#delete the columns \n",
    "#columns2remove = ['date']\n",
    "#dfg.drop(columns2remove, inplace=True, axis=1)\n",
    "dfg.head()"
   ]
  },
  {
   "cell_type": "markdown",
   "metadata": {},
   "source": [
    "#### Undirected Graph\n",
    "The name of indirected Graph is \"g\""
   ]
  },
  {
   "cell_type": "code",
   "execution_count": 7,
   "metadata": {},
   "outputs": [
    {
     "name": "stdout",
     "output_type": "stream",
     "text": [
      "The Network DG has:\n",
      " Number of Nodes =  24819 \n",
      " Number of Edges =  104284 \n",
      "\n",
      "Average degree of \"edges, links\" =  8.403561787340344\n",
      "Is a Directed Network ? False\n"
     ]
    }
   ],
   "source": [
    "g=[]\n",
    "g = nx.from_pandas_edgelist(dfg, source='parent', target='to',\n",
    "                                     edge_attr=['crossposts', 'weights'],\n",
    "                                     create_using=nx.Graph())\n",
    "mesure_graph(g)"
   ]
  },
  {
   "cell_type": "markdown",
   "metadata": {},
   "source": [
    "<a id=\"leiden\"></a>\n",
    "### 2. Leiden communities([to top](#top))"
   ]
  },
  {
   "cell_type": "markdown",
   "metadata": {},
   "source": [
    "#### Leiden communities\n",
    "all the communities with discovery by Leiden method"
   ]
  },
  {
   "cell_type": "code",
   "execution_count": 13,
   "metadata": {},
   "outputs": [
    {
     "name": "stdout",
     "output_type": "stream",
     "text": [
      "Clustering algorithm name is Leiden \n",
      "\n",
      "Clustering parameters {'initial_membership': None, 'weights': 'crossposts'}\n",
      "Identified Clustering with \"Louvain\", \n",
      "\n",
      "Wehter the clustering is overlapping or not =  False \n",
      "\n",
      "Percentage of nodes covered by the clustering =  1.0 \n",
      "\n",
      "All the Leiden communities\n"
     ]
    },
    {
     "data": {
      "text/plain": [
       "<matplotlib.collections.PathCollection at 0x2c32d8be148>"
      ]
     },
     "execution_count": 13,
     "metadata": {},
     "output_type": "execute_result"
    },
    {
     "data": {
      "image/png": "[encoded data removed]",
      "text/plain": [
       "<Figure size 720x720 with 1 Axes>"
      ]
     },
     "metadata": {},
     "output_type": "display_data"
    }
   ],
   "source": [
    "leiden_coms = algorithms.leiden(g,weights='crossposts')\n",
    "leiden_clusters=leiden_coms.communities # Identified Clustering\n",
    "\n",
    "print('Clustering algorithm name is',leiden_coms.method_name,'\\n') \n",
    "print('Clustering parameters',leiden_coms.method_parameters)\n",
    "print('Identified Clustering with \"Louvain\", \\n')\n",
    "\n",
    "leiden_clusters=leiden_coms.communities \n",
    "\n",
    "print('Wehter the clustering is overlapping or not = ',leiden_coms.overlap,'\\n') \n",
    "print('Percentage of nodes covered by the clustering = ',leiden_coms.node_coverage,'\\n') \n",
    "\n",
    "leiden_comunity_js=leiden_coms.to_json()\n",
    "print('All the Leiden communities')\n",
    "viz.plot_community_graph(g,leiden_coms, figsize=(10, 10))\n"
   ]
  },
  {
   "cell_type": "code",
   "execution_count": null,
   "metadata": {},
   "outputs": [],
   "source": [
    "print('Number of communities',len(leiden_clusters))\n",
    "print('\\n top 10 communities with Leiden \\n')\n",
    "viz.plot_community_graph(g,leiden_coms, figsize=(10, 10),\n",
    "                        plot_labels=True,top_k=10)\n",
    "\n"
   ]
  },
  {
   "cell_type": "code",
   "execution_count": null,
   "metadata": {},
   "outputs": [],
   "source": [
    "print('Internal edge density with Leiden')\n",
    "viz.plot_com_stat(leiden_coms,evaluation.internal_edge_density)"
   ]
  },
  {
   "cell_type": "code",
   "execution_count": null,
   "metadata": {},
   "outputs": [],
   "source": [
    "print('Size Vs. Internal edge density')\n",
    "viz.plot_com_properties_relation(leiden_coms, evaluation.size, evaluation.internal_edge_density)\n",
    "print('\\n Internal edge density Vs. Conductance \\n')\n",
    "viz.plot_com_properties_relation(leiden_coms, evaluation.internal_edge_density,evaluation.conductance)\n",
    "print('\\n Size Vs. Conductance \\n')\n",
    "viz.plot_com_properties_relation(leiden_coms, evaluation.size, evaluation.conductance)"
   ]
  },
  {
   "cell_type": "code",
   "execution_count": 10,
   "metadata": {},
   "outputs": [
    {
     "name": "stdout",
     "output_type": "stream",
     "text": [
      "Internal degree:\n",
      " FitnessResult(min=1.0, max=7.812356979405035, score=2.730688742365328, std=1.5332605199377247)\n",
      "\n",
      " Conductance\n",
      " FitnessResult(min=0.022222222222222223, max=0.6521739130434783, score=0.29410315981270496, std=0.1403368429814506)\n",
      "\n",
      " Average Internal grade comunities with Leiden: \n",
      "\n",
      " [5.401749271137026, 5.590670859538784, 4.156551724137931, 5.049941927990709, 5.521425540941875, 3.6961690885072653, 5.575257731958763, 7.812356979405035, 4.2733485193621865, 3.3585798816568047, 2.61747572815534, 2.4448979591836735, 2.274247491638796, 4.105769230769231, 2.4941176470588236, 3.016949152542373, 1.9428571428571428, 1.8823529411764706, 1.8823529411764706, 2.75, 2.125, 1.8666666666666667, 2.4285714285714284, 1.8571428571428572, 1.8333333333333333, 1.8181818181818181, 4.2, 2.0, 1.75, 2.0, 1.7142857142857142, 1.7142857142857142, 4.857142857142857, 1.6666666666666667, 2.3333333333333335, 1.6666666666666667, 1.6, 1.5, 1.5, 1.5, 1.5, 2.0, 1.3333333333333333, 1.0, 1.0, 1.0]\n",
      "\n",
      " Erdos_renyi_modularity:\n",
      "\n",
      " FitnessResult(min=None, max=None, score=0.4763450352564825, std=None)\n",
      "\n",
      " Newman girvan modularity:\n",
      " FitnessResult(min=None, max=None, score=0.46663528099536045, std=None)\n",
      "\n",
      " Maximum fraction of edges of a node of a community that point outside the community itself.\n",
      " [1218, 610, 584, 1272, 911, 1208, 693, 236, 143, 148, 100, 6, 135, 42, 65, 29, 5, 4, 2, 1, 2, 5, 5, 2, 7, 3, 8, 1, 3, 8, 2, 2, 3, 1, 4, 3, 3, 1, 1, 1, 2, 2, 1, 1, 1, 1]\n",
      "\n",
      " size of nodes for comunity \n",
      " FitnessResult(min=2, max=5145, score=539.5434782608696, std=1108.9201701483362)\n",
      "\n",
      " Fraction of community nodes that belong to a triad.\n",
      " FitnessResult(min=0.0, max=1.0, score=0.21928859682700155, std=0.268272877732567)\n"
     ]
    }
   ],
   "source": [
    "leiden_degree=leiden_coms.average_internal_degree()\n",
    "print('Internal degree:\\n', leiden_degree)\n",
    "print('\\n Conductance\\n',evaluation.conductance(g,leiden_coms))\n",
    "\n",
    "leiden_in_degree=leiden_coms.average_internal_degree(summary=False)\n",
    "print('\\n Average Internal grade comunities with Leiden: \\n\\n',leiden_in_degree)\n",
    "\n",
    "leiden_erd_mod=evaluation.erdos_renyi_modularity(g,leiden_coms)\n",
    "print('\\n Erdos_renyi_modularity:\\n\\n',leiden_erd_mod)\n",
    "print('\\n Newman girvan modularity:\\n',evaluation.newman_girvan_modularity(g,leiden_coms))\n",
    "print('\\n Maximum fraction of edges of a node of a community that point outside the community itself.\\n',evaluation.max_odf(g,leiden_coms,summary=False))\n",
    "sz = evaluation.size(g,leiden_coms)\n",
    "print('\\n size of nodes for comunity \\n',sz)\n",
    "print('\\n Fraction of community nodes that belong to a triad.\\n',evaluation.triangle_participation_ratio(g,leiden_coms))"
   ]
  },
  {
   "cell_type": "markdown",
   "metadata": {},
   "source": [
    "<a id=\"explore\"></a>\n",
    "### 3 Explore Communities([to top](#top))"
   ]
  },
  {
   "cell_type": "code",
   "execution_count": 11,
   "metadata": {},
   "outputs": [
    {
     "data": {
      "text/html": [
       "<div>\n",
       "<style scoped>\n",
       "    .dataframe tbody tr th:only-of-type {\n",
       "        vertical-align: middle;\n",
       "    }\n",
       "\n",
       "    .dataframe tbody tr th {\n",
       "        vertical-align: top;\n",
       "    }\n",
       "\n",
       "    .dataframe thead th {\n",
       "        text-align: right;\n",
       "    }\n",
       "</style>\n",
       "<table border=\"1\" class=\"dataframe\">\n",
       "  <thead>\n",
       "    <tr style=\"text-align: right;\">\n",
       "      <th></th>\n",
       "      <th>community</th>\n",
       "      <th>size</th>\n",
       "      <th>density</th>\n",
       "      <th>degree</th>\n",
       "      <th>conductance</th>\n",
       "    </tr>\n",
       "  </thead>\n",
       "  <tbody>\n",
       "    <tr>\n",
       "      <th>0</th>\n",
       "      <td>1</td>\n",
       "      <td>5145</td>\n",
       "      <td>0.000263</td>\n",
       "      <td>5.401749</td>\n",
       "      <td>0.386558</td>\n",
       "    </tr>\n",
       "    <tr>\n",
       "      <th>1</th>\n",
       "      <td>2</td>\n",
       "      <td>3816</td>\n",
       "      <td>0.000366</td>\n",
       "      <td>5.590671</td>\n",
       "      <td>0.342132</td>\n",
       "    </tr>\n",
       "    <tr>\n",
       "      <th>2</th>\n",
       "      <td>3</td>\n",
       "      <td>2900</td>\n",
       "      <td>0.000358</td>\n",
       "      <td>4.156552</td>\n",
       "      <td>0.402261</td>\n",
       "    </tr>\n",
       "    <tr>\n",
       "      <th>3</th>\n",
       "      <td>4</td>\n",
       "      <td>2583</td>\n",
       "      <td>0.000489</td>\n",
       "      <td>5.049942</td>\n",
       "      <td>0.419518</td>\n",
       "    </tr>\n",
       "    <tr>\n",
       "      <th>4</th>\n",
       "      <td>5</td>\n",
       "      <td>2357</td>\n",
       "      <td>0.000586</td>\n",
       "      <td>5.521426</td>\n",
       "      <td>0.458900</td>\n",
       "    </tr>\n",
       "  </tbody>\n",
       "</table>\n",
       "</div>"
      ],
      "text/plain": [
       "   community  size   density    degree  conductance\n",
       "0          1  5145  0.000263  5.401749     0.386558\n",
       "1          2  3816  0.000366  5.590671     0.342132\n",
       "2          3  2900  0.000358  4.156552     0.402261\n",
       "3          4  2583  0.000489  5.049942     0.419518\n",
       "4          5  2357  0.000586  5.521426     0.458900"
      ]
     },
     "execution_count": 11,
     "metadata": {},
     "output_type": "execute_result"
    }
   ],
   "source": [
    "num_com=[]\n",
    "size_com=[]\n",
    "\n",
    "size=len(leiden_clusters)\n",
    "density=evaluation.internal_edge_density(g,leiden_coms,summary=False)\n",
    "degree=evaluation.average_internal_degree(g,leiden_coms,summary=False)\n",
    "conduct=evaluation.conductance(g,leiden_coms,summary=False)\n",
    "\n",
    "\n",
    "for i in range(0,size):\n",
    "    num_com.append(i+1)\n",
    "    size_com.append(len(leiden_clusters[i]))\n",
    "         \n",
    "# intialise data of lists.\n",
    "data = {'community':num_com,\n",
    "        'size':size_com,'density':density,\n",
    "        'degree':degree,\n",
    "        'conductance':conduct,\n",
    "       }                  \n",
    "  # Create DataFrame\n",
    "com = pd.DataFrame(data)\n",
    "com.head()"
   ]
  },
  {
   "cell_type": "code",
   "execution_count": 12,
   "metadata": {},
   "outputs": [
    {
     "data": {
      "image/png": "[encoded data removed]",
      "text/plain": [
       "<Figure size 432x288 with 1 Axes>"
      ]
     },
     "metadata": {
      "needs_background": "light"
     },
     "output_type": "display_data"
    },
    {
     "data": {
      "image/png": "[encoded data removed]",
      "text/plain": [
       "<Figure size 432x288 with 1 Axes>"
      ]
     },
     "metadata": {
      "needs_background": "light"
     },
     "output_type": "display_data"
    },
    {
     "data": {
      "image/png": "[encoded data removed]",
      "text/plain": [
       "<Figure size 432x288 with 1 Axes>"
      ]
     },
     "metadata": {
      "needs_background": "light"
     },
     "output_type": "display_data"
    },
    {
     "data": {
      "image/png": "[encoded data removed]",
      "text/plain": [
       "<Figure size 432x288 with 1 Axes>"
      ]
     },
     "metadata": {
      "needs_background": "light"
     },
     "output_type": "display_data"
    }
   ],
   "source": [
    "import matplotlib.pyplot as plt\n",
    "import numpy as np\n",
    "%matplotlib inline\n",
    "for i in range(1,5):\n",
    "   \n",
    "    name=[]\n",
    "    name=com.columns[i]\n",
    "    plt.title(name +' for community ',fontsize=18)\n",
    "    \n",
    "    plt.bar(com['community'],com[name], align='center', alpha=1, edgecolor='black', linewidth=0.6)\n",
    "    plt.ylabel(com.columns[i], fontsize=16)\n",
    "    plt.xlabel('communities',fontsize=16);\n",
    "    plt.tick_params(axis='both', which='major', labelsize=14)\n",
    "    plt.show()\n",
    "   "
   ]
  },
  {
   "cell_type": "code",
   "execution_count": null,
   "metadata": {},
   "outputs": [],
   "source": []
  }
 ],
 "metadata": {
  "kernelspec": {
   "display_name": "Python 3",
   "language": "python",
   "name": "python3"
  },
  "language_info": {
   "codemirror_mode": {
    "name": "ipython",
    "version": 3
   },
   "file_extension": ".py",
   "mimetype": "text/x-python",
   "name": "python",
   "nbconvert_exporter": "python",
   "pygments_lexer": "ipython3",
   "version": "3.7.6"
  }
 },
 "nbformat": 4,
 "nbformat_minor": 4
}
